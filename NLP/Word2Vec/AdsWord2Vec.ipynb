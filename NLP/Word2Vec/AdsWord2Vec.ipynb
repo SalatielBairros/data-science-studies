{
 "cells": [
  {
   "attachments": {},
   "cell_type": "markdown",
   "metadata": {},
   "source": [
    "# Análise da utilização de Word2Vec nos anúncios\n",
    "\n",
    "O objetivo é enontrar tanto um vocabulário em comum quanto melhorar a vetorização do algoritimo de clusterização."
   ]
  },
  {
   "attachments": {},
   "cell_type": "markdown",
   "metadata": {},
   "source": [
    "## Preparando o ambiente"
   ]
  },
  {
   "attachments": {},
   "cell_type": "markdown",
   "metadata": {},
   "source": [
    "O código abaixo permite que o notebook enxergue as referências do projeto que ficam em pastas referenciadas pela pasta pai."
   ]
  },
  {
   "cell_type": "code",
   "execution_count": 1,
   "metadata": {},
   "outputs": [],
   "source": [
    "import sys\n",
    "sys.path.append('../')"
   ]
  },
  {
   "attachments": {},
   "cell_type": "markdown",
   "metadata": {},
   "source": [
    "Todas as referências utilizadas no notebook estão referenciadas aqui nesta única célula. Não adicionar referências para uso específico durante o projeto para não desorganizar o código."
   ]
  },
  {
   "cell_type": "code",
   "execution_count": 2,
   "metadata": {},
   "outputs": [],
   "source": [
    "import pandas as pd\n",
    "import numpy as np\n",
    "from sklearn.decomposition import IncrementalPCA\n",
    "from sklearn.manifold import TSNE\n",
    "from sklearn.cluster import KMeans\n",
    "import random\n",
    "import logging\n",
    "from gensim.models import Word2Vec, KeyedVectors\n",
    "from nltk.tokenize import WhitespaceTokenizer\n",
    "from nltk.cluster.util import cosine_distance\n",
    "from os.path import exists\n",
    "import pickle\n",
    "from gensim.models import Phrases\n",
    "from os import environ as env\n",
    "import matplotlib.pyplot as plt\n",
    "from plotly.offline import init_notebook_mode, iplot, plot\n",
    "import plotly.graph_objs as go\n",
    "from s_dbw import S_Dbw\n",
    "from sklearn.feature_extraction.text import CountVectorizer"
   ]
  },
  {
   "attachments": {},
   "cell_type": "markdown",
   "metadata": {},
   "source": [
    "O método `skip-gram` precisa de uma variável de ambiente chamada `PYTHONHASHSEED` para controlar a aleatoriedade. Já outros métodos utilizam o `random` do python ou do numpy. Abaixo estamos configurando todos."
   ]
  },
  {
   "cell_type": "code",
   "execution_count": 3,
   "metadata": {},
   "outputs": [],
   "source": [
    "SEED = 42\n",
    "random.seed(SEED)\n",
    "np.random.seed(SEED)\n",
    "env['PYTHONHASHSEED'] = str(SEED)"
   ]
  },
  {
   "attachments": {},
   "cell_type": "markdown",
   "metadata": {},
   "source": [
    "## Carregando os dados"
   ]
  },
  {
   "attachments": {},
   "cell_type": "markdown",
   "metadata": {},
   "source": [
    "Foram 1438047 de anúncios encontrados para processamento. No entanto apenas 570312 sobraram para o processamento (~ 40%). Isso se deu devido aos seguintes tratamentos:\n",
    "\n",
    "1. Remoção de anúncios que, após a exclusão das stopwords, não possuíam mais nenhuma palavra\n",
    "2. Remoção de anúncios com texto duplicado (o que acontece com frequência em alguns tenants)\n",
    "3. Remoção de anúncios que não tenham informação suficiente cadastrada do Tenant."
   ]
  },
  {
   "cell_type": "code",
   "execution_count": 4,
   "metadata": {},
   "outputs": [
    {
     "data": {
      "text/plain": [
       "(570312, 7)"
      ]
     },
     "execution_count": 4,
     "metadata": {},
     "output_type": "execute_result"
    }
   ],
   "source": [
    "dataset = pd.read_csv('../data/ads_2022/preprocessed/ads_full.csv')\n",
    "dataset.dropna(inplace=True)\n",
    "dataset.shape"
   ]
  },
  {
   "attachments": {},
   "cell_type": "markdown",
   "metadata": {},
   "source": [
    "## Analisando os dados"
   ]
  },
  {
   "attachments": {},
   "cell_type": "markdown",
   "metadata": {},
   "source": [
    "### Distribuição dos anúncios por Company"
   ]
  },
  {
   "cell_type": "code",
   "execution_count": 5,
   "metadata": {},
   "outputs": [],
   "source": [
    "def get_proportion(dataframe: pd.DataFrame, fields: list[str]) -> pd.DataFrame:\n",
    "    new_columns = fields + ['ad_id']    \n",
    "    company_distribution = dataframe.groupby(fields).count().reset_index()[new_columns].rename(columns={'ad_id': 'count'})\n",
    "    total_ads = company_distribution['count'].sum()\n",
    "    company_distribution['percentage'] = company_distribution['count'].apply(lambda x: x / total_ads)\n",
    "    return company_distribution.sort_values(by='percentage', ascending=False).reset_index()"
   ]
  },
  {
   "cell_type": "code",
   "execution_count": 6,
   "metadata": {},
   "outputs": [
    {
     "data": {
      "text/html": [
       "<div>\n",
       "<style scoped>\n",
       "    .dataframe tbody tr th:only-of-type {\n",
       "        vertical-align: middle;\n",
       "    }\n",
       "\n",
       "    .dataframe tbody tr th {\n",
       "        vertical-align: top;\n",
       "    }\n",
       "\n",
       "    .dataframe thead th {\n",
       "        text-align: right;\n",
       "    }\n",
       "</style>\n",
       "<table border=\"1\" class=\"dataframe\">\n",
       "  <thead>\n",
       "    <tr style=\"text-align: right;\">\n",
       "      <th></th>\n",
       "      <th>index</th>\n",
       "      <th>company_name</th>\n",
       "      <th>tenant_id</th>\n",
       "      <th>count</th>\n",
       "      <th>percentage</th>\n",
       "    </tr>\n",
       "  </thead>\n",
       "  <tbody>\n",
       "    <tr>\n",
       "      <th>0</th>\n",
       "      <td>47</td>\n",
       "      <td>Magalu</td>\n",
       "      <td>5c9386f9504d3100012e95e5</td>\n",
       "      <td>109151</td>\n",
       "      <td>0.191388</td>\n",
       "    </tr>\n",
       "    <tr>\n",
       "      <th>1</th>\n",
       "      <td>75</td>\n",
       "      <td>Via varejo</td>\n",
       "      <td>5c4b20593e77dc00011399d9</td>\n",
       "      <td>71412</td>\n",
       "      <td>0.125216</td>\n",
       "    </tr>\n",
       "    <tr>\n",
       "      <th>2</th>\n",
       "      <td>6</td>\n",
       "      <td>Americanas</td>\n",
       "      <td>5ea6d0c40e82150001b22fc2</td>\n",
       "      <td>55755</td>\n",
       "      <td>0.097762</td>\n",
       "    </tr>\n",
       "    <tr>\n",
       "      <th>3</th>\n",
       "      <td>45</td>\n",
       "      <td>Lojas Lebes</td>\n",
       "      <td>5eb9d68c0e82150001b23013</td>\n",
       "      <td>53809</td>\n",
       "      <td>0.094350</td>\n",
       "    </tr>\n",
       "    <tr>\n",
       "      <th>4</th>\n",
       "      <td>79</td>\n",
       "      <td>Zema</td>\n",
       "      <td>5c2671aa57f05500012a2eee</td>\n",
       "      <td>40289</td>\n",
       "      <td>0.070644</td>\n",
       "    </tr>\n",
       "    <tr>\n",
       "      <th>...</th>\n",
       "      <td>...</td>\n",
       "      <td>...</td>\n",
       "      <td>...</td>\n",
       "      <td>...</td>\n",
       "      <td>...</td>\n",
       "    </tr>\n",
       "    <tr>\n",
       "      <th>75</th>\n",
       "      <td>29</td>\n",
       "      <td>Directseg</td>\n",
       "      <td>62190f3ac86635f02e35430e</td>\n",
       "      <td>5</td>\n",
       "      <td>0.000009</td>\n",
       "    </tr>\n",
       "    <tr>\n",
       "      <th>76</th>\n",
       "      <td>13</td>\n",
       "      <td>Bornlogic 12</td>\n",
       "      <td>5bababaa708b8413441ffa4f</td>\n",
       "      <td>4</td>\n",
       "      <td>0.000007</td>\n",
       "    </tr>\n",
       "    <tr>\n",
       "      <th>77</th>\n",
       "      <td>34</td>\n",
       "      <td>Fontes</td>\n",
       "      <td>61eefb69a4764ca5826caf8f</td>\n",
       "      <td>3</td>\n",
       "      <td>0.000005</td>\n",
       "    </tr>\n",
       "    <tr>\n",
       "      <th>78</th>\n",
       "      <td>76</td>\n",
       "      <td>Vivo Ad Credits</td>\n",
       "      <td>6172ca19eb15e74f998fd395</td>\n",
       "      <td>3</td>\n",
       "      <td>0.000005</td>\n",
       "    </tr>\n",
       "    <tr>\n",
       "      <th>79</th>\n",
       "      <td>48</td>\n",
       "      <td>Magseguros</td>\n",
       "      <td>62e01a01ef2eb759748941bf</td>\n",
       "      <td>2</td>\n",
       "      <td>0.000004</td>\n",
       "    </tr>\n",
       "  </tbody>\n",
       "</table>\n",
       "<p>80 rows × 5 columns</p>\n",
       "</div>"
      ],
      "text/plain": [
       "    index     company_name                 tenant_id   count  percentage\n",
       "0      47           Magalu  5c9386f9504d3100012e95e5  109151    0.191388\n",
       "1      75       Via varejo  5c4b20593e77dc00011399d9   71412    0.125216\n",
       "2       6       Americanas  5ea6d0c40e82150001b22fc2   55755    0.097762\n",
       "3      45      Lojas Lebes  5eb9d68c0e82150001b23013   53809    0.094350\n",
       "4      79             Zema  5c2671aa57f05500012a2eee   40289    0.070644\n",
       "..    ...              ...                       ...     ...         ...\n",
       "75     29        Directseg  62190f3ac86635f02e35430e       5    0.000009\n",
       "76     13     Bornlogic 12  5bababaa708b8413441ffa4f       4    0.000007\n",
       "77     34           Fontes  61eefb69a4764ca5826caf8f       3    0.000005\n",
       "78     76  Vivo Ad Credits  6172ca19eb15e74f998fd395       3    0.000005\n",
       "79     48       Magseguros  62e01a01ef2eb759748941bf       2    0.000004\n",
       "\n",
       "[80 rows x 5 columns]"
      ]
     },
     "execution_count": 6,
     "metadata": {},
     "output_type": "execute_result"
    }
   ],
   "source": [
    "get_proportion(dataset, ['company_name', 'tenant_id'])"
   ]
  },
  {
   "attachments": {},
   "cell_type": "markdown",
   "metadata": {},
   "source": [
    "Mais de 58% dos anúncios estão concentrados nos 5 primeiros tenants (Magalu, Via Varejo, Americanas, Lebes e Zema)."
   ]
  },
  {
   "attachments": {},
   "cell_type": "markdown",
   "metadata": {},
   "source": [
    "### Distribuição dos anúncios por Tipo"
   ]
  },
  {
   "cell_type": "code",
   "execution_count": 7,
   "metadata": {},
   "outputs": [
    {
     "data": {
      "text/html": [
       "<div>\n",
       "<style scoped>\n",
       "    .dataframe tbody tr th:only-of-type {\n",
       "        vertical-align: middle;\n",
       "    }\n",
       "\n",
       "    .dataframe tbody tr th {\n",
       "        vertical-align: top;\n",
       "    }\n",
       "\n",
       "    .dataframe thead th {\n",
       "        text-align: right;\n",
       "    }\n",
       "</style>\n",
       "<table border=\"1\" class=\"dataframe\">\n",
       "  <thead>\n",
       "    <tr style=\"text-align: right;\">\n",
       "      <th></th>\n",
       "      <th>index</th>\n",
       "      <th>company_type</th>\n",
       "      <th>count</th>\n",
       "      <th>percentage</th>\n",
       "    </tr>\n",
       "  </thead>\n",
       "  <tbody>\n",
       "    <tr>\n",
       "      <th>0</th>\n",
       "      <td>2</td>\n",
       "      <td>Varejo</td>\n",
       "      <td>526813</td>\n",
       "      <td>0.923728</td>\n",
       "    </tr>\n",
       "    <tr>\n",
       "      <th>1</th>\n",
       "      <td>1</td>\n",
       "      <td>Serviços</td>\n",
       "      <td>42905</td>\n",
       "      <td>0.075231</td>\n",
       "    </tr>\n",
       "    <tr>\n",
       "      <th>2</th>\n",
       "      <td>0</td>\n",
       "      <td>Industria</td>\n",
       "      <td>594</td>\n",
       "      <td>0.001042</td>\n",
       "    </tr>\n",
       "  </tbody>\n",
       "</table>\n",
       "</div>"
      ],
      "text/plain": [
       "   index company_type   count  percentage\n",
       "0      2       Varejo  526813    0.923728\n",
       "1      1     Serviços   42905    0.075231\n",
       "2      0    Industria     594    0.001042"
      ]
     },
     "execution_count": 7,
     "metadata": {},
     "output_type": "execute_result"
    }
   ],
   "source": [
    "get_proportion(dataset, ['company_type'])"
   ]
  },
  {
   "attachments": {},
   "cell_type": "markdown",
   "metadata": {},
   "source": [
    "Mais de 92% dos anúncios são de varejo."
   ]
  },
  {
   "attachments": {},
   "cell_type": "markdown",
   "metadata": {},
   "source": [
    "### Distribuição dos anúncios por Segmento"
   ]
  },
  {
   "cell_type": "code",
   "execution_count": 8,
   "metadata": {},
   "outputs": [
    {
     "data": {
      "text/html": [
       "<div>\n",
       "<style scoped>\n",
       "    .dataframe tbody tr th:only-of-type {\n",
       "        vertical-align: middle;\n",
       "    }\n",
       "\n",
       "    .dataframe tbody tr th {\n",
       "        vertical-align: top;\n",
       "    }\n",
       "\n",
       "    .dataframe thead th {\n",
       "        text-align: right;\n",
       "    }\n",
       "</style>\n",
       "<table border=\"1\" class=\"dataframe\">\n",
       "  <thead>\n",
       "    <tr style=\"text-align: right;\">\n",
       "      <th></th>\n",
       "      <th>index</th>\n",
       "      <th>company_segment</th>\n",
       "      <th>count</th>\n",
       "      <th>percentage</th>\n",
       "    </tr>\n",
       "  </thead>\n",
       "  <tbody>\n",
       "    <tr>\n",
       "      <th>0</th>\n",
       "      <td>3</td>\n",
       "      <td>Eletromóveis</td>\n",
       "      <td>326341</td>\n",
       "      <td>0.572215</td>\n",
       "    </tr>\n",
       "    <tr>\n",
       "      <th>1</th>\n",
       "      <td>8</td>\n",
       "      <td>Lojas de departamento e mercadorias</td>\n",
       "      <td>69791</td>\n",
       "      <td>0.122373</td>\n",
       "    </tr>\n",
       "    <tr>\n",
       "      <th>2</th>\n",
       "      <td>15</td>\n",
       "      <td>Super, Hiper, Atacarejo e Conveniencia</td>\n",
       "      <td>66030</td>\n",
       "      <td>0.115779</td>\n",
       "    </tr>\n",
       "    <tr>\n",
       "      <th>3</th>\n",
       "      <td>9</td>\n",
       "      <td>Moda, Calçados e Artigos Esportivos</td>\n",
       "      <td>52516</td>\n",
       "      <td>0.092083</td>\n",
       "    </tr>\n",
       "    <tr>\n",
       "      <th>4</th>\n",
       "      <td>4</td>\n",
       "      <td>Financeiro</td>\n",
       "      <td>18487</td>\n",
       "      <td>0.032416</td>\n",
       "    </tr>\n",
       "    <tr>\n",
       "      <th>5</th>\n",
       "      <td>2</td>\n",
       "      <td>Educação</td>\n",
       "      <td>15663</td>\n",
       "      <td>0.027464</td>\n",
       "    </tr>\n",
       "    <tr>\n",
       "      <th>6</th>\n",
       "      <td>1</td>\n",
       "      <td>Cosméticos, perfumaria e farmácia</td>\n",
       "      <td>10099</td>\n",
       "      <td>0.017708</td>\n",
       "    </tr>\n",
       "    <tr>\n",
       "      <th>7</th>\n",
       "      <td>17</td>\n",
       "      <td>Telecomunicações</td>\n",
       "      <td>4872</td>\n",
       "      <td>0.008543</td>\n",
       "    </tr>\n",
       "    <tr>\n",
       "      <th>8</th>\n",
       "      <td>10</td>\n",
       "      <td>Real Estate</td>\n",
       "      <td>2533</td>\n",
       "      <td>0.004441</td>\n",
       "    </tr>\n",
       "    <tr>\n",
       "      <th>9</th>\n",
       "      <td>0</td>\n",
       "      <td>Concessionárias (Auto/Moto)</td>\n",
       "      <td>1381</td>\n",
       "      <td>0.002421</td>\n",
       "    </tr>\n",
       "    <tr>\n",
       "      <th>10</th>\n",
       "      <td>5</td>\n",
       "      <td>FoodService</td>\n",
       "      <td>767</td>\n",
       "      <td>0.001345</td>\n",
       "    </tr>\n",
       "    <tr>\n",
       "      <th>11</th>\n",
       "      <td>11</td>\n",
       "      <td>Saúde e Bem-Estar</td>\n",
       "      <td>489</td>\n",
       "      <td>0.000857</td>\n",
       "    </tr>\n",
       "    <tr>\n",
       "      <th>12</th>\n",
       "      <td>12</td>\n",
       "      <td>Seguradora</td>\n",
       "      <td>294</td>\n",
       "      <td>0.000516</td>\n",
       "    </tr>\n",
       "    <tr>\n",
       "      <th>13</th>\n",
       "      <td>13</td>\n",
       "      <td>Serviços Gerais</td>\n",
       "      <td>290</td>\n",
       "      <td>0.000508</td>\n",
       "    </tr>\n",
       "    <tr>\n",
       "      <th>14</th>\n",
       "      <td>14</td>\n",
       "      <td>Shopping</td>\n",
       "      <td>259</td>\n",
       "      <td>0.000454</td>\n",
       "    </tr>\n",
       "    <tr>\n",
       "      <th>15</th>\n",
       "      <td>6</td>\n",
       "      <td>Indústria Alimentícia</td>\n",
       "      <td>249</td>\n",
       "      <td>0.000437</td>\n",
       "    </tr>\n",
       "    <tr>\n",
       "      <th>16</th>\n",
       "      <td>7</td>\n",
       "      <td>Indústria Química</td>\n",
       "      <td>235</td>\n",
       "      <td>0.000412</td>\n",
       "    </tr>\n",
       "    <tr>\n",
       "      <th>17</th>\n",
       "      <td>16</td>\n",
       "      <td>Tecnologia</td>\n",
       "      <td>16</td>\n",
       "      <td>0.000028</td>\n",
       "    </tr>\n",
       "  </tbody>\n",
       "</table>\n",
       "</div>"
      ],
      "text/plain": [
       "    index                         company_segment   count  percentage\n",
       "0       3                            Eletromóveis  326341    0.572215\n",
       "1       8     Lojas de departamento e mercadorias   69791    0.122373\n",
       "2      15  Super, Hiper, Atacarejo e Conveniencia   66030    0.115779\n",
       "3       9     Moda, Calçados e Artigos Esportivos   52516    0.092083\n",
       "4       4                              Financeiro   18487    0.032416\n",
       "5       2                                Educação   15663    0.027464\n",
       "6       1       Cosméticos, perfumaria e farmácia   10099    0.017708\n",
       "7      17                        Telecomunicações    4872    0.008543\n",
       "8      10                             Real Estate    2533    0.004441\n",
       "9       0             Concessionárias (Auto/Moto)    1381    0.002421\n",
       "10      5                             FoodService     767    0.001345\n",
       "11     11                       Saúde e Bem-Estar     489    0.000857\n",
       "12     12                              Seguradora     294    0.000516\n",
       "13     13                         Serviços Gerais     290    0.000508\n",
       "14     14                                Shopping     259    0.000454\n",
       "15      6                   Indústria Alimentícia     249    0.000437\n",
       "16      7                       Indústria Química     235    0.000412\n",
       "17     16                              Tecnologia      16    0.000028"
      ]
     },
     "execution_count": 8,
     "metadata": {},
     "output_type": "execute_result"
    }
   ],
   "source": [
    "get_proportion(dataset, ['company_segment'])"
   ]
  },
  {
   "attachments": {},
   "cell_type": "markdown",
   "metadata": {},
   "source": [
    "Mais da metade (57%) dos anúncios estão concentrados em empressas classificadas no segmento \"Eletromóveis\". Já a outra metade é dividida entre Lojas de departamento, mercados e moda (33% do total) e outros segmentos (~ 10%)."
   ]
  },
  {
   "attachments": {},
   "cell_type": "markdown",
   "metadata": {},
   "source": [
    "É possível notar que existe um viés claro nos dados dos anúncios utilizados aqui. Isso pode ser um problema para todos os modelos seguintes em tenants que não sejam de Varejo."
   ]
  },
  {
   "attachments": {},
   "cell_type": "markdown",
   "metadata": {},
   "source": [
    "## Modelando com Word2Vec"
   ]
  },
  {
   "attachments": {},
   "cell_type": "markdown",
   "metadata": {},
   "source": [
    "Como o tratamento do texto já foi realizado anteriormente, a tokenização utilizada aqui é a simples quebra por espaço."
   ]
  },
  {
   "cell_type": "code",
   "execution_count": 9,
   "metadata": {},
   "outputs": [
    {
     "name": "stdout",
     "output_type": "stream",
     "text": [
      "570312\n"
     ]
    }
   ],
   "source": [
    "tokenizer = WhitespaceTokenizer()\n",
    "tokenized_docs = [tokenizer.tokenize(ad_text) for ad_text in dataset['cleaned_text'] ]\n",
    "print(len(tokenized_docs))"
   ]
  },
  {
   "attachments": {},
   "cell_type": "markdown",
   "metadata": {},
   "source": [
    "Antes de criar o modelo, separamos o texto em sentensas utilizando a class `Phrases` que também permite trabalhar com bigramas no texto. A bigrama é definida como um novo token, onde os dois tokens anteriores são unidos por um `_`."
   ]
  },
  {
   "cell_type": "code",
   "execution_count": 120,
   "metadata": {},
   "outputs": [],
   "source": [
    "bigram_transformer = Phrases(tokenized_docs, min_count=10)"
   ]
  },
  {
   "attachments": {},
   "cell_type": "markdown",
   "metadata": {},
   "source": [
    "Abaixo temos a criação de um modelo `Word2Vec` com o método `skip-gram` e com 100 dimensões. O modelo foi treinado com 20 épocas.\n",
    "Além disso, o modelo está configurado para apenas considerar tokens que apareçam mais de 10 vezes no corpus e também para registrar o `loss`.\n",
    "\n",
    "São também configurados 8 workers para o processamento em paralelo.\n",
    "\n",
    "> Foram realizados testes com CBOW, vetores maiores e número de épocas maiores e menores. A configuração abaixo foi a que apresentou os melhores resultados observados e gerando um modelo razoavelmente pequeno (arquivo de vetores em torno de 20MB)."
   ]
  },
  {
   "cell_type": "code",
   "execution_count": 121,
   "metadata": {},
   "outputs": [],
   "source": [
    "ngram_model = Word2Vec(\n",
    "    sentences=bigram_transformer[tokenized_docs], \n",
    "    sg=1,\n",
    "    vector_size=100, \n",
    "    workers=8, \n",
    "    seed=SEED, \n",
    "    min_count=10, \n",
    "    epochs=20, \n",
    "    compute_loss=True\n",
    ")"
   ]
  },
  {
   "attachments": {},
   "cell_type": "markdown",
   "metadata": {},
   "source": [
    "O treinamento acima leva em torno de 10 minutos para rodar."
   ]
  },
  {
   "attachments": {},
   "cell_type": "markdown",
   "metadata": {},
   "source": [
    "Para efeitos de comparação, abaixo um mesmo modelo mas sem o uso de bigramas."
   ]
  },
  {
   "cell_type": "code",
   "execution_count": 122,
   "metadata": {},
   "outputs": [],
   "source": [
    "simple_model = Word2Vec(\n",
    "    sentences=tokenized_docs,\n",
    "    sg=1,\n",
    "    vector_size=100, \n",
    "    workers=8, \n",
    "    seed=SEED, \n",
    "    min_count=10, \n",
    "    epochs=20, \n",
    "    compute_loss=True\n",
    ")"
   ]
  },
  {
   "attachments": {},
   "cell_type": "markdown",
   "metadata": {},
   "source": [
    "### Experimentando os modelos"
   ]
  },
  {
   "attachments": {},
   "cell_type": "markdown",
   "metadata": {},
   "source": [
    "O método abaixo encontra as `topn` palavras mais similares a uma dada palavra ou lista de palavras.\n",
    "Também é possível encontrar palavras que não são similares a uma dada palavra ou lista de palavras no parâmetro negative."
   ]
  },
  {
   "cell_type": "code",
   "execution_count": 123,
   "metadata": {},
   "outputs": [],
   "source": [
    "words = ['smartphone', 'samsung', 'motorola', 'iphone', 'acer', 'notebook', 'lenovo', 'xiaomi', 'arfryer', 'lavadora', 'geladeira', 'consul']\n",
    "\n",
    "def print_similar(model: Word2Vec, word: str):\n",
    "    print(f'\\n\\n *** Palavras similares a {word} *** \\n')\n",
    "    for similar_word, similarity in model.wv.most_similar(word, topn=10):\n",
    "        print(f'{similar_word} - {similarity}')"
   ]
  },
  {
   "attachments": {},
   "cell_type": "markdown",
   "metadata": {},
   "source": [
    "#### Modelo com Bigramas"
   ]
  },
  {
   "cell_type": "code",
   "execution_count": 124,
   "metadata": {},
   "outputs": [
    {
     "name": "stdout",
     "output_type": "stream",
     "text": [
      "\n",
      "\n",
      " *** Palavras similares a smartphone *** \n",
      "\n",
      "celular - 0.8079062104225159\n",
      "smartphones - 0.7798966765403748\n",
      "celulares - 0.7388275861740112\n",
      "motorola - 0.7320172786712646\n",
      "troqueseucelular - 0.7097023725509644\n",
      "smartphone_motorola - 0.7022383809089661\n",
      "smartphone_samsung - 0.6964427828788757\n",
      "telefonia - 0.6901738047599792\n",
      "trocar_smartphone - 0.6849275827407837\n",
      "smatphone - 0.6748748421669006\n",
      "\n",
      "\n",
      " *** Palavras similares a samsung *** \n",
      "\n",
      "motorola - 0.7856016755104065\n",
      "sansung - 0.7516082525253296\n",
      "samsumg - 0.735723614692688\n",
      "acer_lenovo - 0.7317425608634949\n",
      "galaxy - 0.7285083532333374\n",
      "acer - 0.7206438779830933\n",
      "tcl - 0.7175400257110596\n",
      "a03core - 0.7158241868019104\n",
      "tcltv - 0.7075546979904175\n",
      "notebook_acer - 0.70713871717453\n",
      "\n",
      "\n",
      " *** Palavras similares a motorola *** \n",
      "\n",
      "samsung - 0.7856016755104065\n",
      "smartphone_motorola - 0.7679975628852844\n",
      "motog - 0.7549338936805725\n",
      "a23 - 0.7455610036849976\n",
      "motorola_motorola - 0.7326964735984802\n",
      "smartphone - 0.7320173382759094\n",
      "g22 - 0.7284142971038818\n",
      "positivo_multilaser - 0.7245758771896362\n",
      "g60 - 0.72383052110672\n",
      "sansumg - 0.7130504846572876\n",
      "\n",
      "\n",
      " *** Palavras similares a iphone *** \n",
      "\n",
      "iphone_day - 0.8759065866470337\n",
      "iphone_64gb - 0.8473336100578308\n",
      "iphone11 - 0.8290413022041321\n",
      "iphones - 0.7694907188415527\n",
      "iphoneday - 0.7550846934318542\n",
      "iphone_128gb - 0.7548552751541138\n",
      "iphone_64g - 0.7435125112533569\n",
      "iphoneday_iphone11 - 0.7423974275588989\n",
      "iphone13 - 0.7366836667060852\n",
      "iphone11_iphone13 - 0.7340483069419861\n",
      "\n",
      "\n",
      " *** Palavras similares a acer *** \n",
      "\n",
      "asus - 0.7375496625900269\n",
      "acer_lenovo - 0.7318123579025269\n",
      "samsung - 0.7206437587738037\n",
      "notebook_acer - 0.7176076173782349\n",
      "galaxytabs85g - 0.7047349810600281\n",
      "t25_conjunto - 0.6992352604866028\n",
      "notebook_asus - 0.6895915865898132\n",
      "multilaser_positivo - 0.6883192658424377\n",
      "caixaacustica - 0.6848516464233398\n",
      "fonedeouvido - 0.6841782331466675\n",
      "\n",
      "\n",
      " *** Palavras similares a notebook *** \n",
      "\n",
      "notebooks - 0.7309480309486389\n",
      "impressora - 0.7089354395866394\n",
      "computador - 0.7088105082511902\n",
      "microsoft365 - 0.6761032342910767\n",
      "notebook_acer - 0.6747793555259705\n",
      "acer - 0.6591165065765381\n",
      "notebookgamer - 0.6568934917449951\n",
      "samsung_book - 0.6520017981529236\n",
      "note - 0.6517539620399475\n",
      "led_plasma - 0.6437038779258728\n",
      "\n",
      "\n",
      " *** Palavras similares a lenovo *** \n",
      "\n",
      "ideapad - 0.7015498280525208\n",
      "processador_intel - 0.6834957003593445\n",
      "acer_lenovo - 0.6828442215919495\n",
      "asus - 0.6810344457626343\n",
      "xiaomi_pioneer - 0.6744775176048279\n",
      "notebook_lenovo - 0.6734268069267273\n",
      "multilaser_positivo - 0.669658362865448\n",
      "notebook_asus - 0.6637755036354065\n",
      "note - 0.6616297960281372\n",
      "acer_asus - 0.6615419983863831\n",
      "\n",
      "\n",
      " *** Palavras similares a xiaomi *** \n",
      "\n",
      "xiomi - 0.7345824837684631\n",
      "xaiomi - 0.6971102952957153\n",
      "positivo_nokia - 0.6592159271240234\n",
      "fritadeira - 0.6496731638908386\n",
      "xaomi - 0.6448262929916382\n",
      "redmi - 0.636009931564331\n",
      "airfryer_inteligente - 0.6341860294342041\n",
      "multilaser_positivo - 0.627754271030426\n",
      "airfryer_xiaomi - 0.6192705631256104\n",
      "samsung_motorola - 0.6041882634162903\n",
      "\n",
      "\n",
      " *** Palavras similares a arfryer *** \n",
      "\n",
      "philips_wallita - 0.8221336007118225\n",
      "airfryer_conect - 0.7905640602111816\n",
      "friturasemoleo - 0.7881286144256592\n",
      "airfryerphilips - 0.779017448425293\n",
      "airfryerconect - 0.7773714065551758\n",
      "highconnect - 0.7734087109565735\n",
      "fornoairfryer - 0.7718134522438049\n",
      "multi_cookfryer - 0.769841194152832\n",
      "kitchenrevolutionmidea - 0.762061357498169\n",
      "campolimpo_fritadeira - 0.7575247287750244\n",
      "\n",
      "\n",
      " *** Palavras similares a lavadora *** \n",
      "\n",
      "maquina_lavar - 0.7859038710594177\n",
      "lavadoras - 0.7448093891143799\n",
      "12kg - 0.7423970103263855\n",
      "14kg - 0.7251715660095215\n",
      "consul - 0.7225373983383179\n",
      "lavadora_brastemp - 0.7079719305038452\n",
      "lavadora_consul - 0.7050174474716187\n",
      "lavadoura - 0.7033526301383972\n",
      "cesto_inox - 0.699453592300415\n",
      "lava_seca - 0.6961606740951538\n",
      "\n",
      "\n",
      " *** Palavras similares a geladeira *** \n",
      "\n",
      "refrigerador - 0.8185861110687256\n",
      "refrigerador_electrolux - 0.711548924446106\n",
      "geladeira_fogao - 0.7019041776657104\n",
      "brastemp - 0.7008715867996216\n",
      "inverse - 0.698157548904419\n",
      "refrigerador_brastemp - 0.6947116255760193\n",
      "refrigerador_refrigeracao - 0.6930730938911438\n",
      "refrigeradorinox - 0.6907431483268738\n",
      "notebook_headset - 0.6867287158966064\n",
      "maquina_lavar - 0.6857677698135376\n",
      "\n",
      "\n",
      " *** Palavras similares a consul *** \n",
      "\n",
      "brastemp - 0.8578745126724243\n",
      "electrolux - 0.7484452128410339\n",
      "lavadora_12kg - 0.7458494901657104\n",
      "lavadora12kg - 0.7439929842948914\n",
      "refrigerador_brastemp - 0.7340947389602661\n",
      "brastemp_12kg - 0.7279015779495239\n",
      "12kg - 0.7255223393440247\n",
      "lavadora - 0.7225372791290283\n",
      "lavadora_roupas - 0.7199410200119019\n",
      "consul_brastemp - 0.7197858095169067\n"
     ]
    }
   ],
   "source": [
    "for word in words:\n",
    "    print_similar(ngram_model, word)"
   ]
  },
  {
   "attachments": {},
   "cell_type": "markdown",
   "metadata": {},
   "source": [
    "#### Modelo simples"
   ]
  },
  {
   "cell_type": "code",
   "execution_count": 125,
   "metadata": {},
   "outputs": [
    {
     "name": "stdout",
     "output_type": "stream",
     "text": [
      "\n",
      "\n",
      " *** Palavras similares a smartphone *** \n",
      "\n",
      "celular - 0.7958705425262451\n",
      "smartphones - 0.7677938938140869\n",
      "motorola - 0.6955063939094543\n",
      "sansung - 0.6934441924095154\n",
      "samsung - 0.6933012008666992\n",
      "a32 - 0.6808217763900757\n",
      "troqueseucelular - 0.6729292869567871\n",
      "notebook - 0.671934962272644\n",
      "smarttv - 0.666790246963501\n",
      "a03 - 0.6615244150161743\n",
      "\n",
      "\n",
      " *** Palavras similares a samsung *** \n",
      "\n",
      "motorola - 0.8498696684837341\n",
      "a13 - 0.8368636965751648\n",
      "a03 - 0.809364378452301\n",
      "a32 - 0.8089965581893921\n",
      "galaxy - 0.7982056736946106\n",
      "s20 - 0.7874330282211304\n",
      "a23 - 0.771888792514801\n",
      "a12 - 0.7667020559310913\n",
      "a52 - 0.7610216736793518\n",
      "a53 - 0.7558366656303406\n",
      "\n",
      "\n",
      " *** Palavras similares a motorola *** \n",
      "\n",
      "samsung - 0.8498696684837341\n",
      "a13 - 0.757515013217926\n",
      "g22 - 0.7566375732421875\n",
      "g52 - 0.7516529560089111\n",
      "g60s - 0.7325477600097656\n",
      "sansung - 0.7318364381790161\n",
      "a03 - 0.7287513017654419\n",
      "galaxya13 - 0.7265475988388062\n",
      "nokia - 0.7180981040000916\n",
      "g31 - 0.7167720794677734\n",
      "\n",
      "\n",
      " *** Palavras similares a iphone *** \n",
      "\n",
      "iphoneday - 0.7895330190658569\n",
      "iphone11 - 0.7771449685096741\n",
      "64gb - 0.7628068923950195\n",
      "iphones - 0.760270357131958\n",
      "day - 0.7484935522079468\n",
      "aplle - 0.7348277568817139\n",
      "64g - 0.6802994012832642\n",
      "macazinha - 0.6770351529121399\n",
      "iphone13 - 0.6745650768280029\n",
      "iphoneee - 0.6631475687026978\n",
      "\n",
      "\n",
      " *** Palavras similares a acer *** \n",
      "\n",
      "lenovo - 0.7680187225341797\n",
      "asus - 0.755366325378418\n",
      "pioneer - 0.6737688779830933\n",
      "nokia - 0.6725823283195496\n",
      "notebook - 0.6694321632385254\n",
      "celeron - 0.6655659675598145\n",
      "notebooksamsung - 0.65591961145401\n",
      "ssd - 0.6428537368774414\n",
      "dell - 0.6422619223594666\n",
      "notebooks - 0.6404252052307129\n",
      "\n",
      "\n",
      " *** Palavras similares a notebook *** \n",
      "\n",
      "lenovo - 0.7326156497001648\n",
      "tablet - 0.7199151515960693\n",
      "impressora - 0.7139591574668884\n",
      "asus - 0.6779616475105286\n",
      "notebooks - 0.6733009219169617\n",
      "smartphone - 0.6719350218772888\n",
      "acer - 0.6694322228431702\n",
      "celeron - 0.6661638617515564\n",
      "note - 0.6634203195571899\n",
      "notbook - 0.6613680124282837\n",
      "\n",
      "\n",
      " *** Palavras similares a lenovo *** \n",
      "\n",
      "ideapad - 0.7791590094566345\n",
      "asus - 0.7690798044204712\n",
      "acer - 0.7680186629295349\n",
      "notebook - 0.73261559009552\n",
      "intel - 0.6865450739860535\n",
      "note - 0.6773221492767334\n",
      "celeron - 0.6661311984062195\n",
      "samsung - 0.6658537983894348\n",
      "pioneer - 0.6531422138214111\n",
      "impressora - 0.6526404619216919\n",
      "\n",
      "\n",
      " *** Palavras similares a xiaomi *** \n",
      "\n",
      "xaiomi - 0.7740553021430969\n",
      "xaomi - 0.7190919518470764\n",
      "xiomi - 0.7002190351486206\n",
      "pioneer - 0.6500189900398254\n",
      "fryer - 0.6449990272521973\n",
      "nokia - 0.6257345080375671\n",
      "c30 - 0.6220604181289673\n",
      "descongela - 0.6215669512748718\n",
      "cozinhe - 0.6066283583641052\n",
      "fritadeira - 0.6054750084877014\n",
      "\n",
      "\n",
      " *** Palavras similares a arfryer *** \n",
      "\n",
      "highconnect - 0.7597742080688477\n",
      "airfryer - 0.7336251139640808\n",
      "airfryerphilips - 0.7292085289955139\n",
      "friturasemoleo - 0.7230574488639832\n",
      "airfryerconect - 0.7116263508796692\n",
      "fornoairfryer - 0.7100180387496948\n",
      "fritasemoleo - 0.700691819190979\n",
      "icheff - 0.699481189250946\n",
      "airfryerhighconnectphilipswalita - 0.6883404850959778\n",
      "philipswalita - 0.6865465044975281\n",
      "\n",
      "\n",
      " *** Palavras similares a lavadora *** \n",
      "\n",
      "12kg - 0.8488298654556274\n",
      "consul - 0.8320638537406921\n",
      "14kg - 0.8025462627410889\n",
      "electrolux - 0.7825656533241272\n",
      "16kg - 0.7768160104751587\n",
      "11kg - 0.7742563486099243\n",
      "brastemp - 0.7721877098083496\n",
      "refrigerador - 0.7714537978172302\n",
      "15kg - 0.7519069314002991\n",
      "17kg - 0.7500858902931213\n",
      "\n",
      "\n",
      " *** Palavras similares a geladeira *** \n",
      "\n",
      "refrigerador - 0.8441029191017151\n",
      "frost - 0.7145113945007324\n",
      "brastemp - 0.7125195860862732\n",
      "geladeirabrastemp - 0.7051483392715454\n",
      "refrigeradorgigante - 0.6877825260162354\n",
      "geladeirainox - 0.6872917413711548\n",
      "tf55 - 0.678931713104248\n",
      "brm44 - 0.6768178343772888\n",
      "590l - 0.676181435585022\n",
      "electrolux - 0.674558162689209\n",
      "\n",
      "\n",
      " *** Palavras similares a consul *** \n",
      "\n",
      "brastemp - 0.8866362571716309\n",
      "lavadora - 0.8320637941360474\n",
      "12kg - 0.8320587873458862\n",
      "electrolux - 0.7917409539222717\n",
      "refrigerador - 0.7755234837532043\n",
      "14kg - 0.7640619277954102\n",
      "334l - 0.7535490989685059\n",
      "11kg - 0.7488306164741516\n",
      "panasonic - 0.7479464411735535\n",
      "410l - 0.747462272644043\n"
     ]
    }
   ],
   "source": [
    "for word in words:\n",
    "    print_similar(simple_model, word)"
   ]
  },
  {
   "attachments": {},
   "cell_type": "markdown",
   "metadata": {},
   "source": [
    "Possivelmente para a **clusterização** o modelo com bigramas performe melhor, mas para uso em API de vocabulário, o modelo simples é melhor, visto que apresenta menos dados redundantes."
   ]
  },
  {
   "attachments": {},
   "cell_type": "markdown",
   "metadata": {},
   "source": [
    "#### Possibilidades com modelos\n",
    "\n",
    "Abaixo algumas possibilidades de uso do Word2Vec. Será utilizado apenas o modelo com bigramas, mas o uso se dá da mesma forma para o modelo simples."
   ]
  },
  {
   "attachments": {},
   "cell_type": "markdown",
   "metadata": {},
   "source": [
    "##### Calculando similaridade entre duas palavras"
   ]
  },
  {
   "cell_type": "code",
   "execution_count": 103,
   "metadata": {},
   "outputs": [
    {
     "data": {
      "text/plain": [
       "0.80790627"
      ]
     },
     "execution_count": 103,
     "metadata": {},
     "output_type": "execute_result"
    }
   ],
   "source": [
    "ngram_model.wv.similarity('smartphone', 'celular')"
   ]
  },
  {
   "attachments": {},
   "cell_type": "markdown",
   "metadata": {},
   "source": [
    "##### Método alternativo para similaridade"
   ]
  },
  {
   "cell_type": "code",
   "execution_count": 127,
   "metadata": {},
   "outputs": [
    {
     "data": {
      "text/plain": [
       "[('motorola', 0.7731724977493286),\n",
       " ('smartphones', 0.7354727387428284),\n",
       " ('celular', 0.7303162217140198),\n",
       " ('celulares', 0.7265018820762634),\n",
       " ('sansung', 0.7207329273223877),\n",
       " ('smartphone_samsung', 0.7134494781494141),\n",
       " ('smartphone_motorola', 0.711828351020813),\n",
       " ('a23', 0.7040438652038574),\n",
       " ('motorola_nokia', 0.703444242477417),\n",
       " ('samsung_motorola', 0.698502242565155),\n",
       " ('a03core', 0.6958571672439575),\n",
       " ('troqueseucelular', 0.6949499845504761),\n",
       " ('samsung_a53', 0.6942026019096375),\n",
       " ('samsumg', 0.6910018920898438),\n",
       " ('galaxya13', 0.6908678412437439),\n",
       " ('a13', 0.6908193826675415),\n",
       " ('sansumg', 0.6856268644332886),\n",
       " ('m52', 0.6839920878410339),\n",
       " ('g22', 0.6801782846450806),\n",
       " ('samsung_galaxy', 0.6794378161430359)]"
      ]
     },
     "execution_count": 127,
     "metadata": {},
     "output_type": "execute_result"
    }
   ],
   "source": [
    "ngram_model.wv.most_similar_cosmul(['samsung', 'smartphone'], topn=20)"
   ]
  },
  {
   "attachments": {},
   "cell_type": "markdown",
   "metadata": {},
   "source": [
    "Note que os pesos desse método são um pouco maiores, visto que ele utiliza formas diferente de aproximação e tem mais \"certeza\" da similariade"
   ]
  },
  {
   "attachments": {},
   "cell_type": "markdown",
   "metadata": {},
   "source": [
    "##### Identificando palavras não similares"
   ]
  },
  {
   "cell_type": "code",
   "execution_count": 8,
   "metadata": {},
   "outputs": [
    {
     "name": "stderr",
     "output_type": "stream",
     "text": [
      "10:17:16: vectors for words {'asdfqwer'} are not present in the model, ignoring these words\n"
     ]
    },
    {
     "data": {
      "text/plain": [
       "'lavadora'"
      ]
     },
     "execution_count": 8,
     "metadata": {},
     "output_type": "execute_result"
    }
   ],
   "source": [
    "ngram_model.wv.doesnt_match(['samsung', 'motorola', 'celular', 'lavadora', 'asdfqwer'])"
   ]
  },
  {
   "attachments": {},
   "cell_type": "markdown",
   "metadata": {},
   "source": [
    "Acima, a palavra `lavadora` é a com menor relação entre todas, não pertencendo ao grupo fornecido."
   ]
  },
  {
   "attachments": {},
   "cell_type": "markdown",
   "metadata": {},
   "source": [
    "##### Lista de palavras mais próximas a uma dada palavra que outra"
   ]
  },
  {
   "cell_type": "code",
   "execution_count": 112,
   "metadata": {},
   "outputs": [
    {
     "data": {
      "text/plain": [
       "['smartphone',\n",
       " 'smartphones',\n",
       " 'celulares',\n",
       " 'motorola',\n",
       " 'notebook',\n",
       " '128gb',\n",
       " 'samsung_galaxy',\n",
       " 'smarttv',\n",
       " 'smartphone_samsung',\n",
       " 'electrolux',\n",
       " 'polegadas',\n",
       " 'televisao',\n",
       " 'tcl',\n",
       " 'samsung_motorola',\n",
       " 'smartphone_motorola',\n",
       " 'smart_samsung',\n",
       " 'jbl',\n",
       " 'televisor',\n",
       " 'ram',\n",
       " 'galaxy',\n",
       " 'smartv',\n",
       " 'a32',\n",
       " 'g22',\n",
       " 'a13',\n",
       " 'aoc',\n",
       " 's20',\n",
       " 'lenovo',\n",
       " 'smart_led',\n",
       " 'tvsmart',\n",
       " 'caixadesom',\n",
       " 'nokia',\n",
       " 'sansung',\n",
       " 'a03',\n",
       " 'samsung_a32',\n",
       " 's20fe',\n",
       " 'samsung_s22',\n",
       " 'a23',\n",
       " 'notebook_asus',\n",
       " 'lavaeseca',\n",
       " 'uhd',\n",
       " 'samsung_s20',\n",
       " 'a33',\n",
       " 'asus',\n",
       " 'tvsamsung',\n",
       " 'cartao_cartaomastercard',\n",
       " 'caixaamplificada',\n",
       " 'g60',\n",
       " 'a52',\n",
       " 'tv4k',\n",
       " 'samsumg',\n",
       " 'toshiba',\n",
       " 'boxplumatex_boxcasal',\n",
       " 'boxqueensize_ofertabox',\n",
       " 'a12_64gb',\n",
       " 'a53',\n",
       " 'motog',\n",
       " 'tv50',\n",
       " 'acer',\n",
       " 'samsunggalaxy',\n",
       " 's22_samsung',\n",
       " 'galaxy_a23',\n",
       " 'lavadoraelectrolux12kg_ofertasarrasadoras',\n",
       " 'g31',\n",
       " 'a03core',\n",
       " 'm52',\n",
       " 'samsung_a52',\n",
       " 'tv55',\n",
       " 'a13_samsung',\n",
       " 'e20',\n",
       " 'nanocell',\n",
       " '8gb_ram',\n",
       " 'tcltv',\n",
       " 'galaxy_a52',\n",
       " 'motog20',\n",
       " 'galaxy_a33',\n",
       " 'celular_nokia',\n",
       " 'motog31',\n",
       " 'a03s',\n",
       " 'neo_qled',\n",
       " 'samsung_a53',\n",
       " 'notebook_acer',\n",
       " 'goldenfriday',\n",
       " 't25_conjunto',\n",
       " 'a73',\n",
       " 'headphones',\n",
       " 'iguatemiesplanada',\n",
       " 'positivo_multilaser',\n",
       " 'galaxy_buds',\n",
       " 'tv60',\n",
       " 'temno_saovicenteferrer',\n",
       " 'smarttv_iphone12',\n",
       " 'lavadoraelectrolux_ofertasarrasadoras',\n",
       " 'tv65',\n",
       " 'galaxya13',\n",
       " 'dell',\n",
       " 'zfold',\n",
       " 'galaxys20fe',\n",
       " 'samsunga32',\n",
       " '64gb_armazenamento',\n",
       " 'zflip',\n",
       " 'shop_salvador',\n",
       " 'magalocal_samsungbookpravoce',\n",
       " 'au7700',\n",
       " 'samsung_tab',\n",
       " 'amoled',\n",
       " 'samsungs20fe',\n",
       " 'samsung_zflip4',\n",
       " 'informatica_note',\n",
       " 'itumbiara_iub',\n",
       " 'celularsamsung',\n",
       " 'iphone13_iphone11',\n",
       " 'tabs8',\n",
       " 'motorolaedge',\n",
       " 'neoqled',\n",
       " 'multilaser_positivo',\n",
       " 'sansumg',\n",
       " 'samsungs22',\n",
       " 's22_s22ultra',\n",
       " 'lite_32gb',\n",
       " 'fastjk',\n",
       " 'sorocaba_saopaulo',\n",
       " 'smarttv55',\n",
       " 'smartwhatch',\n",
       " 'tcl_aoc',\n",
       " 'sala_renovesuasala',\n",
       " 'intel_celeron',\n",
       " 'tab_ultra',\n",
       " 'bu8000',\n",
       " 'notebooksamsung',\n",
       " 'samsunga13',\n",
       " 'zflip4',\n",
       " 'motoedge20',\n",
       " 'bookpro2',\n",
       " 'galaxya32',\n",
       " 'w11',\n",
       " 'edge30',\n",
       " 'a01',\n",
       " 'shop_vitoria',\n",
       " 'celulare',\n",
       " 'samsunga12',\n",
       " 'troqueseucelular',\n",
       " 'tabletsamsung',\n",
       " 'the_freestyle',\n",
       " 'acer_lenovo',\n",
       " 'caixaacustica',\n",
       " 'positivo_nokia',\n",
       " 'm52_128gb',\n",
       " 'pague3leve4_pulaparcela',\n",
       " 'a52_128gb',\n",
       " 'zfold4',\n",
       " 'lavaesecasamsung',\n",
       " 'galaxytabs85g',\n",
       " 'motorola_nokia',\n",
       " 's21_128gb',\n",
       " 'thinq',\n",
       " 's22_s22',\n",
       " '128gb_8gb',\n",
       " 'spen',\n",
       " 'led_polegadas',\n",
       " '440l']"
      ]
     },
     "execution_count": 112,
     "metadata": {},
     "output_type": "execute_result"
    }
   ],
   "source": [
    "ngram_model.wv.closer_than('samsung', 'celular')"
   ]
  },
  {
   "attachments": {},
   "cell_type": "markdown",
   "metadata": {},
   "source": [
    "##### Qual a palavra mais próxima a uma lista de palavras"
   ]
  },
  {
   "cell_type": "code",
   "execution_count": 107,
   "metadata": {},
   "outputs": [
    {
     "data": {
      "text/plain": [
       "'motorola'"
      ]
     },
     "execution_count": 107,
     "metadata": {},
     "output_type": "execute_result"
    }
   ],
   "source": [
    "ngram_model.wv.most_similar_to_given('samsung', ['motorola', 'celular', 'lavadora'])"
   ]
  },
  {
   "attachments": {},
   "cell_type": "markdown",
   "metadata": {},
   "source": [
    "##### Ranking entre palavras"
   ]
  },
  {
   "attachments": {},
   "cell_type": "markdown",
   "metadata": {},
   "source": [
    "Ranking de uma palavra em relação a outra em proximidade."
   ]
  },
  {
   "cell_type": "code",
   "execution_count": 108,
   "metadata": {},
   "outputs": [
    {
     "data": {
      "text/plain": [
       "1"
      ]
     },
     "execution_count": 108,
     "metadata": {},
     "output_type": "execute_result"
    }
   ],
   "source": [
    "ngram_model.wv.rank('celular', 'smartphone')"
   ]
  },
  {
   "cell_type": "code",
   "execution_count": 110,
   "metadata": {},
   "outputs": [
    {
     "data": {
      "text/plain": [
       "42849"
      ]
     },
     "execution_count": 110,
     "metadata": {},
     "output_type": "execute_result"
    }
   ],
   "source": [
    "ngram_model.wv.rank('celular', 'fruta')"
   ]
  },
  {
   "attachments": {},
   "cell_type": "markdown",
   "metadata": {},
   "source": [
    "## Salvando os modelos"
   ]
  },
  {
   "attachments": {},
   "cell_type": "markdown",
   "metadata": {},
   "source": [
    "De acordo com a documentação:\n",
    "\n",
    "> The reason for separating the trained vectors into KeyedVectors is that if you don’t need the full model state any more (don’t need to continue training), its state can be discarded, keeping just the vectors and their keys proper.\n",
    "\n",
    "Ou seja, caso não deseje novos treinamentos para o modelo, basta salvar apenas o `model.wv` que contém os vetores e suas chaves.\n",
    "\n",
    "Pode ser feito:\n",
    "\n",
    "```python\n",
    "from gensim.models import KeyedVectors\n",
    "\n",
    "# Store just the words + their trained embeddings.\n",
    "word_vectors = model.wv\n",
    "word_vectors.save(\"word2vec.wordvectors\")\n",
    "\n",
    "# Load back with memory-mapping = read-only, shared across processes.\n",
    "wv = KeyedVectors.load(\"word2vec.wordvectors\", mmap='r')\n",
    "\n",
    "vector = wv['computer']  # Get numpy vector of a word\n",
    "```\n",
    "\n",
    "Dessa forma, o modelo consome muito menos espaço para armazenamento e memória ram para ser carregado. Para colocar em produção, talvez o ideal seja salvar os dois, mas utilizar apenas o vetor.\n",
    "\n",
    "Além disso, os métodos `save` utilizam internamente a biblioteca `pickle`."
   ]
  },
  {
   "cell_type": "code",
   "execution_count": 130,
   "metadata": {},
   "outputs": [],
   "source": [
    "ngram_model.save('../data/ads_2022/word2vec_model/word2vec_100_ngram.model')\n",
    "simple_model.save('../data/ads_2022/word2vec_model/word2vec_100.model')\n",
    "\n",
    "ngram_model.wv.save('../data/ads_2022/word2vec_model/word2vec_100_ngram.wv')\n",
    "simple_model.wv.save('../data/ads_2022/word2vec_model/word2vec_100.wv')"
   ]
  },
  {
   "cell_type": "code",
   "execution_count": 6,
   "metadata": {},
   "outputs": [
    {
     "name": "stderr",
     "output_type": "stream",
     "text": [
      "10:16:52: loading Word2Vec object from ../data/ads_2022/word2vec_model/word2vec_100_ngram.model\n",
      "10:16:52: loading wv recursively from ../data/ads_2022/word2vec_model/word2vec_100_ngram.model.wv.* with mmap=None\n",
      "10:16:52: setting ignored attribute cum_table to None\n",
      "10:16:53: Word2Vec lifecycle event {'fname': '../data/ads_2022/word2vec_model/word2vec_100_ngram.model', 'datetime': '2023-02-13T10:16:53.047486', 'gensim': '4.3.0', 'python': '3.10.0 (tags/v3.10.0:b494f59, Oct  4 2021, 19:00:18) [MSC v.1929 64 bit (AMD64)]', 'platform': 'Windows-10-10.0.22000-SP0', 'event': 'loaded'}\n",
      "10:16:53: loading Word2Vec object from ../data/ads_2022/word2vec_model/word2vec_100.model\n",
      "10:16:53: loading wv recursively from ../data/ads_2022/word2vec_model/word2vec_100.model.wv.* with mmap=None\n",
      "10:16:53: setting ignored attribute cum_table to None\n",
      "10:16:53: Word2Vec lifecycle event {'fname': '../data/ads_2022/word2vec_model/word2vec_100.model', 'datetime': '2023-02-13T10:16:53.304567', 'gensim': '4.3.0', 'python': '3.10.0 (tags/v3.10.0:b494f59, Oct  4 2021, 19:00:18) [MSC v.1929 64 bit (AMD64)]', 'platform': 'Windows-10-10.0.22000-SP0', 'event': 'loaded'}\n",
      "10:16:53: loading KeyedVectors object from ../data/ads_2022/word2vec_model/word2vec_100_ngram.wv\n",
      "10:16:53: KeyedVectors lifecycle event {'fname': '../data/ads_2022/word2vec_model/word2vec_100_ngram.wv', 'datetime': '2023-02-13T10:16:53.345712', 'gensim': '4.3.0', 'python': '3.10.0 (tags/v3.10.0:b494f59, Oct  4 2021, 19:00:18) [MSC v.1929 64 bit (AMD64)]', 'platform': 'Windows-10-10.0.22000-SP0', 'event': 'loaded'}\n",
      "10:16:53: loading KeyedVectors object from ../data/ads_2022/word2vec_model/word2vec_100.wv\n",
      "10:16:53: KeyedVectors lifecycle event {'fname': '../data/ads_2022/word2vec_model/word2vec_100.wv', 'datetime': '2023-02-13T10:16:53.373803', 'gensim': '4.3.0', 'python': '3.10.0 (tags/v3.10.0:b494f59, Oct  4 2021, 19:00:18) [MSC v.1929 64 bit (AMD64)]', 'platform': 'Windows-10-10.0.22000-SP0', 'event': 'loaded'}\n"
     ]
    }
   ],
   "source": [
    "ngram_model = Word2Vec.load('../data/ads_2022/word2vec_model/word2vec_100_ngram.model')\n",
    "simple_model = Word2Vec.load('../data/ads_2022/word2vec_model/word2vec_100.model')\n",
    "\n",
    "ngram_vector = KeyedVectors.load('../data/ads_2022/word2vec_model/word2vec_100_ngram.wv')\n",
    "simple_vector = KeyedVectors.load('../data/ads_2022/word2vec_model/word2vec_100.wv')"
   ]
  },
  {
   "attachments": {},
   "cell_type": "markdown",
   "metadata": {},
   "source": [
    "### Consumindo o dicionário dos vetores carregados"
   ]
  },
  {
   "cell_type": "code",
   "execution_count": 132,
   "metadata": {},
   "outputs": [
    {
     "data": {
      "text/plain": [
       "True"
      ]
     },
     "execution_count": 132,
     "metadata": {},
     "output_type": "execute_result"
    }
   ],
   "source": [
    "# Dicionário das palavras utilizadas - vocabulário\n",
    "'lavadora' in simple_vector.key_to_index"
   ]
  },
  {
   "attachments": {},
   "cell_type": "markdown",
   "metadata": {},
   "source": [
    "Abaixo é possível observar o vetor gerado para a palavra:"
   ]
  },
  {
   "cell_type": "code",
   "execution_count": 133,
   "metadata": {},
   "outputs": [
    {
     "data": {
      "text/plain": [
       "array([-0.38484028, -0.6572288 , -0.14744078, -0.18379757, -0.2960514 ,\n",
       "       -0.03425425,  0.8167372 ,  0.4786531 ,  0.23476033, -0.08393216,\n",
       "        0.04763038,  0.28473428,  0.41781002,  0.6252697 , -0.30713055,\n",
       "        0.6961318 , -0.3927612 , -0.47692257,  0.09585433,  0.44653207,\n",
       "        0.3599962 ,  0.11790296, -0.26622942,  0.02334156, -0.15762755,\n",
       "       -0.381878  , -0.27346295, -0.36799154, -0.32047182,  0.1527832 ,\n",
       "        0.7005383 , -0.39008474,  0.06827886, -0.5345552 ,  0.01235103,\n",
       "       -0.22823425,  0.12909237, -0.39197755,  0.13586482,  0.0304972 ,\n",
       "        0.2623397 ,  0.23790662, -0.10114253, -0.26417112, -0.6393438 ,\n",
       "       -0.27206275, -0.11496433,  0.49280447,  0.25345778,  0.09168054,\n",
       "       -0.01355151, -0.09803419,  0.41401538,  0.705238  ,  0.2577733 ,\n",
       "        0.35940745,  0.209846  , -0.04814927, -0.11127543,  0.99837697,\n",
       "       -0.24745998, -0.552586  , -0.14084771,  0.31452346,  0.14553414,\n",
       "        0.52682155,  0.02948772, -0.39211515, -0.07934252, -0.03538165,\n",
       "       -0.29614946, -0.67703325,  0.17706946, -0.05433936, -0.0794587 ,\n",
       "       -0.11032011, -0.01658756, -0.19272806, -0.6496728 ,  0.14234792,\n",
       "       -0.18136843, -0.02193938,  0.5087185 , -0.19272782, -0.08246663,\n",
       "        0.07181925,  0.6467095 , -0.19457336,  0.0726959 ,  0.07397016,\n",
       "        0.0394304 , -0.04756934,  0.42668733, -0.4623477 , -0.42031223,\n",
       "       -0.1278199 ,  0.01742856,  0.04547348, -0.18600065, -0.19397955],\n",
       "      dtype=float32)"
      ]
     },
     "execution_count": 133,
     "metadata": {},
     "output_type": "execute_result"
    }
   ],
   "source": [
    "simple_vector['smartphone']"
   ]
  },
  {
   "attachments": {},
   "cell_type": "markdown",
   "metadata": {},
   "source": [
    "## Treinamento contínuo"
   ]
  },
  {
   "attachments": {},
   "cell_type": "markdown",
   "metadata": {},
   "source": [
    "Conforme pode ser visto abaixo, é possível realizar o treino contínuo do modelo ao adicionar novas frases. No entanto esse treino só pode se realizado sobre o modelo `Word2Vec`. Vetores não podem ser retreinados."
   ]
  },
  {
   "cell_type": "code",
   "execution_count": 134,
   "metadata": {},
   "outputs": [
    {
     "data": {
      "text/plain": [
       "[('kappesberg', 0.6620039343833923),\n",
       " ('cobogo', 0.6396653652191162),\n",
       " ('lotus', 0.6386463046073914),\n",
       " ('telescopicas', 0.6351643800735474),\n",
       " ('fosca', 0.6302306652069092),\n",
       " ('modulada', 0.6250993013381958),\n",
       " ('corredicas', 0.6214839220046997),\n",
       " ('poliman', 0.6178778409957886),\n",
       " ('pia', 0.6059314608573914),\n",
       " ('sevilha', 0.6025501489639282)]"
      ]
     },
     "execution_count": 134,
     "metadata": {},
     "output_type": "execute_result"
    }
   ],
   "source": [
    "more_sentenses = [\n",
    "    'corre cozinha sonhos corredicas telescopicas linda cristaleira reais descontos compra mesa cadeiras linho desconto imperdivel soatedomingo piratuba',\n",
    "    'gente trouxe super novidade curtir inverno panela eletrica fondue'\n",
    "]\n",
    "\n",
    "splited_sentenses = [sentence.split(' ') for sentence in more_sentenses]\n",
    "simple_model.build_vocab(splited_sentenses, update=True)\n",
    "simple_model.train(splited_sentenses, total_examples=simple_model.corpus_count, epochs=2)\n",
    "simple_model.wv.most_similar('cristaleira')"
   ]
  },
  {
   "attachments": {},
   "cell_type": "markdown",
   "metadata": {},
   "source": [
    "## Visualizando os vetores"
   ]
  },
  {
   "attachments": {},
   "cell_type": "markdown",
   "metadata": {},
   "source": [
    "Para fins de visualização e simplificação, vamos utilizar apenas o modelo simples, sem bigramas, para a visualização. A visualização se dá por meio da redução de dimensionalidade dos vetores utilizando a técnica `TSNE`."
   ]
  },
  {
   "cell_type": "code",
   "execution_count": 84,
   "metadata": {},
   "outputs": [
    {
     "data": {
      "text/plain": [
       "array([[-2.4617919e-01,  3.7430529e-02,  1.9315998e-01, ...,\n",
       "         5.0927418e-01,  1.7548772e-02, -2.4499406e-01],\n",
       "       [ 1.4978780e-01, -1.6189803e-01,  2.7355710e-01, ...,\n",
       "        -6.7263916e-02, -2.9857111e-01,  3.3346653e-01],\n",
       "       [-1.8404964e-01, -5.2777681e-02, -7.5714290e-02, ...,\n",
       "         2.3784842e-01, -2.2239959e-01, -2.4157886e-01],\n",
       "       ...,\n",
       "       [-2.6471287e-01, -1.8090187e-01, -8.2242405e-03, ...,\n",
       "         3.4327916e-04, -5.2871329e-01,  2.6035124e-01],\n",
       "       [ 4.4811392e-01,  3.4959906e-01, -1.3934028e-01, ...,\n",
       "         1.3490403e-01,  1.4401405e-01,  1.8983686e-02],\n",
       "       [ 1.3340446e-02,  3.5815647e-01, -4.7454736e-01, ...,\n",
       "         3.7317523e-01,  1.4810154e-01,  4.8216242e-01]], dtype=float32)"
      ]
     },
     "execution_count": 84,
     "metadata": {},
     "output_type": "execute_result"
    }
   ],
   "source": [
    "ngram_model.wv.vectors"
   ]
  },
  {
   "cell_type": "code",
   "execution_count": 83,
   "metadata": {},
   "outputs": [],
   "source": [
    "def reduce_vectors_dimensions(vectors: np.ndarray, final_num_dimensions: int = 2):\n",
    "    tsne = TSNE(n_components=final_num_dimensions, random_state=SEED)\n",
    "    vectors = tsne.fit_transform(vectors)\n",
    "\n",
    "    x_vals = [v[0] for v in vectors]\n",
    "    y_vals = [v[1] for v in vectors]\n",
    "    return x_vals, y_vals\n",
    "\n",
    "def reduce_dimensions(model: Word2Vec, final_num_dimensions: int = 2):\n",
    "    vectors = np.asarray(model.wv.vectors)\n",
    "    words = np.asarray(model.wv.index_to_key)\n",
    "    \n",
    "    x_vals, y_vals = reduce_vectors_dimensions(vectors, final_num_dimensions)\n",
    "    return x_vals, y_vals, words    "
   ]
  },
  {
   "attachments": {},
   "cell_type": "markdown",
   "metadata": {},
   "source": [
    "Dois tipos de plot são implementados: um com `matplotlib` para visualização direta no notebook e outro com `plotly` para visualização em um arquivo html interativo."
   ]
  },
  {
   "cell_type": "code",
   "execution_count": 94,
   "metadata": {},
   "outputs": [],
   "source": [
    "def plot_html_with_plotly(x_vals: list, y_vals: list, words: list, filename: str = 'ads_word2vec_plot.html'):\n",
    "    from plotly.offline import init_notebook_mode, iplot, plot\n",
    "    import plotly.graph_objs as go\n",
    "\n",
    "    trace = go.Scatter(x=x_vals, y=y_vals, mode='markers', text=words)\n",
    "    data = [trace]\n",
    "\n",
    "    plot(data, filename=filename)"
   ]
  },
  {
   "cell_type": "code",
   "execution_count": 138,
   "metadata": {},
   "outputs": [],
   "source": [
    "def plot_with_matplotlib(x_vals: list, y_vals: list, words: list):\n",
    "    plt.figure(figsize=(12, 12))\n",
    "    plt.scatter(x_vals, y_vals)\n",
    "\n",
    "    indices = list(range(len(words)))\n",
    "    selected_indices = random.sample(indices, 15)\n",
    "    for i in selected_indices:\n",
    "        plt.annotate(words[i], (x_vals[i], y_vals[i]))"
   ]
  },
  {
   "attachments": {},
   "cell_type": "markdown",
   "metadata": {},
   "source": [
    "A classe abaixo permite que o arquivo com as dimensões reduzidas seja salvo, evitando assim reprocessamento em qualquer alteração da visualização."
   ]
  },
  {
   "cell_type": "code",
   "execution_count": 86,
   "metadata": {},
   "outputs": [],
   "source": [
    "class ReducedDimensions:\n",
    "    def __init__(self, x_vals: list, y_vals: list, labels: list):\n",
    "        self.x_vals = x_vals\n",
    "        self.y_vals = y_vals\n",
    "        self.labels = labels"
   ]
  },
  {
   "cell_type": "code",
   "execution_count": 87,
   "metadata": {},
   "outputs": [],
   "source": [
    "def load_reduced_dimensions(model: Word2Vec, filename = '../data/ads_2022/word2vec_model/word2vec_vocabulary_reduced_dimensions.pkl') -> ReducedDimensions:    \n",
    "    if exists(filename):\n",
    "        with open(filename, 'rb') as file:\n",
    "            return pickle.load(file)\n",
    "    else:\n",
    "        x_vals, y_vals, labels = reduce_dimensions(model)\n",
    "        reduced = ReducedDimensions(x_vals, y_vals, labels)\n",
    "        pickle.dump(reduced, open(filename, 'wb'))\n",
    "        return reduced"
   ]
  },
  {
   "cell_type": "code",
   "execution_count": 142,
   "metadata": {},
   "outputs": [
    {
     "name": "stderr",
     "output_type": "stream",
     "text": [
      "c:\\Users\\salat\\AppData\\Local\\Programs\\Python\\Python310\\lib\\site-packages\\sklearn\\manifold\\_t_sne.py:795: FutureWarning:\n",
      "\n",
      "The default initialization in TSNE will change from 'random' to 'pca' in 1.2.\n",
      "\n",
      "c:\\Users\\salat\\AppData\\Local\\Programs\\Python\\Python310\\lib\\site-packages\\sklearn\\manifold\\_t_sne.py:805: FutureWarning:\n",
      "\n",
      "The default learning rate in TSNE will change from 200.0 to 'auto' in 1.2.\n",
      "\n"
     ]
    }
   ],
   "source": [
    "loaded_reduced = load_reduced_dimensions(simple_model)"
   ]
  },
  {
   "attachments": {},
   "cell_type": "markdown",
   "metadata": {},
   "source": [
    "A execução acima pode levar vários minutos para ser executada."
   ]
  },
  {
   "cell_type": "code",
   "execution_count": 143,
   "metadata": {},
   "outputs": [
    {
     "data": {
      "image/png": "[encoded data removed]",
      "text/plain": [
       "<Figure size 864x864 with 1 Axes>"
      ]
     },
     "metadata": {
      "needs_background": "light"
     },
     "output_type": "display_data"
    }
   ],
   "source": [
    "plot_with_matplotlib(loaded_reduced.x_vals, loaded_reduced.y_vals, loaded_reduced.labels)"
   ]
  },
  {
   "attachments": {},
   "cell_type": "markdown",
   "metadata": {},
   "source": [
    "A execução abaixo irá abrir um HTML com o gráfico."
   ]
  },
  {
   "cell_type": "code",
   "execution_count": 144,
   "metadata": {},
   "outputs": [],
   "source": [
    "plot_html_with_plotly(loaded_reduced.x_vals, loaded_reduced.y_vals, loaded_reduced.labels)"
   ]
  },
  {
   "attachments": {},
   "cell_type": "markdown",
   "metadata": {},
   "source": [
    "## Clusterização de documentos com `Word2Vec`"
   ]
  },
  {
   "attachments": {},
   "cell_type": "markdown",
   "metadata": {},
   "source": [
    "Como Word2Vec é um modelo de representação de palavras, podemos utilizar esse modelo para representar documentos. Para isso, podemos utilizar a média dos vetores das palavras que compõem o documento. A média para uma sentença pode ser obtida:"
   ]
  },
  {
   "cell_type": "code",
   "execution_count": 6,
   "metadata": {},
   "outputs": [
    {
     "data": {
      "text/plain": [
       "array([ 1.29415281e-02,  2.84196585e-02, -6.73374757e-02,  2.07686499e-02,\n",
       "       -9.43069607e-02,  6.21129721e-02,  7.74239600e-02,  1.52826235e-01,\n",
       "        3.69955450e-02, -5.93491904e-02, -4.87604588e-02,  4.26598340e-02,\n",
       "       -7.20713288e-05,  4.92530316e-02, -7.89748132e-03, -1.67424932e-01,\n",
       "        5.76995574e-02, -1.27557725e-01,  1.07646007e-02,  3.47392261e-02,\n",
       "        5.89211993e-02,  8.28816220e-02, -2.61530988e-02,  1.80305600e-01,\n",
       "        6.30835742e-02, -3.64513323e-02,  1.15878284e-01,  1.78793408e-02,\n",
       "        1.61563084e-02, -3.80696841e-02, -7.59141054e-03, -5.50234728e-02,\n",
       "       -3.82040516e-02,  5.66851348e-02,  6.51577562e-02, -4.75699194e-02,\n",
       "        2.98956912e-02, -5.95390201e-02, -9.85306054e-02,  4.56667393e-02,\n",
       "        3.08303572e-02,  2.55644657e-02,  8.48574564e-02,  6.46615922e-02,\n",
       "        3.99480984e-02,  3.02595459e-03,  8.39364827e-02,  5.32218330e-02,\n",
       "        1.13994315e-01, -2.49665286e-02, -6.51311278e-02, -6.26033992e-02,\n",
       "       -8.65134969e-02,  4.64578532e-02,  6.06698878e-02,  8.06088001e-02,\n",
       "       -2.06799712e-02,  2.09655836e-02, -1.07696041e-01,  1.36926383e-01,\n",
       "        1.95045061e-02,  4.25692201e-02, -2.57364213e-02,  7.31776357e-02,\n",
       "       -1.69019643e-02, -4.68772762e-02,  3.72428820e-02, -4.67344075e-02,\n",
       "       -7.29001239e-02, -5.27663156e-02,  5.36652505e-02, -1.13793194e-01,\n",
       "       -8.97920877e-03, -1.33781910e-01,  1.66697837e-02, -1.08058587e-01,\n",
       "        9.40850675e-02, -9.98515710e-02,  1.76168513e-03, -1.21119991e-03,\n",
       "        4.22508419e-02,  2.12815963e-02, -3.77998501e-03, -2.73486339e-02,\n",
       "        4.20176946e-02,  5.50830215e-02,  1.38361380e-02, -8.67235437e-02,\n",
       "       -3.77882197e-02, -4.19069119e-02, -6.37868466e-03,  1.10952452e-01,\n",
       "        5.39439656e-02, -8.22778493e-02, -1.93285756e-02,  1.51562961e-02,\n",
       "        4.10698950e-02,  1.20710731e-01,  6.61507249e-03,  8.59524868e-03],\n",
       "      dtype=float32)"
      ]
     },
     "execution_count": 6,
     "metadata": {},
     "output_type": "execute_result"
    }
   ],
   "source": [
    "ngram_model.wv.get_mean_vector(['samsung', 'compre', 'gosto', 'blablabla', 'smartphone'], ignore_missing=True)"
   ]
  },
  {
   "attachments": {},
   "cell_type": "markdown",
   "metadata": {},
   "source": [
    "Note que o parâmetro `ignore_missing` é utilizado para ignorar palavras que não estão no vocabulário do modelo. Caso ele seja `False`, uma exceção será lançada quando uma palavra não estiver no vocabulário. Abaixo o código para a transformação dos documentos em vetores utilizando a média dos vetores das palavras que compõem o documento."
   ]
  },
  {
   "cell_type": "code",
   "execution_count": 11,
   "metadata": {},
   "outputs": [],
   "source": [
    "vectorized_docs = np.array([ngram_model.wv.get_mean_vector(document, ignore_missing=True) for document in tokenized_docs])"
   ]
  },
  {
   "attachments": {},
   "cell_type": "markdown",
   "metadata": {},
   "source": [
    "Tentei utilizar a versão do KMeans do `nltk`, mas era muito lento. Já a versão do `scikit-learn` é muito mais rápida, conforme pode ser visto no código abaixo."
   ]
  },
  {
   "cell_type": "code",
   "execution_count": 19,
   "metadata": {},
   "outputs": [
    {
     "data": {
      "text/html": [
       "<style>#sk-container-id-1 {color: black;background-color: white;}#sk-container-id-1 pre{padding: 0;}#sk-container-id-1 div.sk-toggleable {background-color: white;}#sk-container-id-1 label.sk-toggleable__label {cursor: pointer;display: block;width: 100%;margin-bottom: 0;padding: 0.3em;box-sizing: border-box;text-align: center;}#sk-container-id-1 label.sk-toggleable__label-arrow:before {content: \"▸\";float: left;margin-right: 0.25em;color: #696969;}#sk-container-id-1 label.sk-toggleable__label-arrow:hover:before {color: black;}#sk-container-id-1 div.sk-estimator:hover label.sk-toggleable__label-arrow:before {color: black;}#sk-container-id-1 div.sk-toggleable__content {max-height: 0;max-width: 0;overflow: hidden;text-align: left;background-color: #f0f8ff;}#sk-container-id-1 div.sk-toggleable__content pre {margin: 0.2em;color: black;border-radius: 0.25em;background-color: #f0f8ff;}#sk-container-id-1 input.sk-toggleable__control:checked~div.sk-toggleable__content {max-height: 200px;max-width: 100%;overflow: auto;}#sk-container-id-1 input.sk-toggleable__control:checked~label.sk-toggleable__label-arrow:before {content: \"▾\";}#sk-container-id-1 div.sk-estimator input.sk-toggleable__control:checked~label.sk-toggleable__label {background-color: #d4ebff;}#sk-container-id-1 div.sk-label input.sk-toggleable__control:checked~label.sk-toggleable__label {background-color: #d4ebff;}#sk-container-id-1 input.sk-hidden--visually {border: 0;clip: rect(1px 1px 1px 1px);clip: rect(1px, 1px, 1px, 1px);height: 1px;margin: -1px;overflow: hidden;padding: 0;position: absolute;width: 1px;}#sk-container-id-1 div.sk-estimator {font-family: monospace;background-color: #f0f8ff;border: 1px dotted black;border-radius: 0.25em;box-sizing: border-box;margin-bottom: 0.5em;}#sk-container-id-1 div.sk-estimator:hover {background-color: #d4ebff;}#sk-container-id-1 div.sk-parallel-item::after {content: \"\";width: 100%;border-bottom: 1px solid gray;flex-grow: 1;}#sk-container-id-1 div.sk-label:hover label.sk-toggleable__label {background-color: #d4ebff;}#sk-container-id-1 div.sk-serial::before {content: \"\";position: absolute;border-left: 1px solid gray;box-sizing: border-box;top: 0;bottom: 0;left: 50%;z-index: 0;}#sk-container-id-1 div.sk-serial {display: flex;flex-direction: column;align-items: center;background-color: white;padding-right: 0.2em;padding-left: 0.2em;position: relative;}#sk-container-id-1 div.sk-item {position: relative;z-index: 1;}#sk-container-id-1 div.sk-parallel {display: flex;align-items: stretch;justify-content: center;background-color: white;position: relative;}#sk-container-id-1 div.sk-item::before, #sk-container-id-1 div.sk-parallel-item::before {content: \"\";position: absolute;border-left: 1px solid gray;box-sizing: border-box;top: 0;bottom: 0;left: 50%;z-index: -1;}#sk-container-id-1 div.sk-parallel-item {display: flex;flex-direction: column;z-index: 1;position: relative;background-color: white;}#sk-container-id-1 div.sk-parallel-item:first-child::after {align-self: flex-end;width: 50%;}#sk-container-id-1 div.sk-parallel-item:last-child::after {align-self: flex-start;width: 50%;}#sk-container-id-1 div.sk-parallel-item:only-child::after {width: 0;}#sk-container-id-1 div.sk-dashed-wrapped {border: 1px dashed gray;margin: 0 0.4em 0.5em 0.4em;box-sizing: border-box;padding-bottom: 0.4em;background-color: white;}#sk-container-id-1 div.sk-label label {font-family: monospace;font-weight: bold;display: inline-block;line-height: 1.2em;}#sk-container-id-1 div.sk-label-container {text-align: center;}#sk-container-id-1 div.sk-container {/* jupyter's `normalize.less` sets `[hidden] { display: none; }` but bootstrap.min.css set `[hidden] { display: none !important; }` so we also need the `!important` here to be able to override the default hidden behavior on the sphinx rendered scikit-learn.org. See: https://github.com/scikit-learn/scikit-learn/issues/21755 */display: inline-block !important;position: relative;}#sk-container-id-1 div.sk-text-repr-fallback {display: none;}</style><div id=\"sk-container-id-1\" class=\"sk-top-container\"><div class=\"sk-text-repr-fallback\"><pre>KMeans(n_clusters=30, random_state=42)</pre><b>In a Jupyter environment, please rerun this cell to show the HTML representation or trust the notebook. <br />On GitHub, the HTML representation is unable to render, please try loading this page with nbviewer.org.</b></div><div class=\"sk-container\" hidden><div class=\"sk-item\"><div class=\"sk-estimator sk-toggleable\"><input class=\"sk-toggleable__control sk-hidden--visually\" id=\"sk-estimator-id-1\" type=\"checkbox\" checked><label for=\"sk-estimator-id-1\" class=\"sk-toggleable__label sk-toggleable__label-arrow\">KMeans</label><div class=\"sk-toggleable__content\"><pre>KMeans(n_clusters=30, random_state=42)</pre></div></div></div></div></div>"
      ],
      "text/plain": [
       "KMeans(n_clusters=30, random_state=42)"
      ]
     },
     "execution_count": 19,
     "metadata": {},
     "output_type": "execute_result"
    }
   ],
   "source": [
    "kmeans_model = KMeans(n_clusters=30, random_state=SEED)\n",
    "kmeans_model.fit(vectorized_docs)"
   ]
  },
  {
   "cell_type": "code",
   "execution_count": 22,
   "metadata": {},
   "outputs": [
    {
     "name": "stdout",
     "output_type": "stream",
     "text": [
      "[20 20 14 ...  0  6 26]\n"
     ]
    }
   ],
   "source": [
    "cluster_response = kmeans_model.predict(vectorized_docs)\n",
    "print(cluster_response)"
   ]
  },
  {
   "attachments": {},
   "cell_type": "markdown",
   "metadata": {},
   "source": [
    "### Avaliando o modelo\n",
    "\n",
    "A avaliação do modelo pode ser feita por diversos métodos que consideram aspectos diferentes da clusterização. "
   ]
  },
  {
   "attachments": {},
   "cell_type": "markdown",
   "metadata": {},
   "source": [
    "#### S_Dbw"
   ]
  },
  {
   "attachments": {},
   "cell_type": "markdown",
   "metadata": {},
   "source": [
    "Quanto menor for o valor, melhor. Não tem um valor máximo bem definido."
   ]
  },
  {
   "cell_type": "code",
   "execution_count": 47,
   "metadata": {},
   "outputs": [],
   "source": [
    "def get_sdbw(vectors: np.ndarray, initial_k: int = 2, max_k: int = 30, step: int = 1):\n",
    "    sum_of_squared_distances = []\n",
    "    models = []\n",
    "    sdbw_scores = []\n",
    "\n",
    "    K = range(initial_k, max_k, step)\n",
    "    for k in K:\n",
    "        inertia, km, score = execute_kmeans(vectors, k)\n",
    "        sum_of_squared_distances.append(inertia)\n",
    "        models.append(km)\n",
    "        sdbw_scores.append(score)\n",
    "    \n",
    "    return sum_of_squared_distances, models, sdbw_scores\n",
    "\n",
    "def execute_kmeans(vectors, k: int):\n",
    "    print(f'Running KMeans with k={k}')\n",
    "    km = KMeans(n_clusters=k, random_state=SEED)\n",
    "    km = km.fit(vectors)\n",
    "    print(f'Finished KMeans with k={k}')\n",
    "    prediction = km.predict(vectors)\n",
    "    inertia = km.inertia_\n",
    "    print(f'Calculating SDBW score for k={k}')\n",
    "    score = S_Dbw(vectorized_docs, prediction, method='Halkidi', alg_noise='bind')\n",
    "    print(f'SDBW score for k={k}: {score}\\n\\n')\n",
    "    return inertia, km, score"
   ]
  },
  {
   "cell_type": "code",
   "execution_count": null,
   "metadata": {},
   "outputs": [],
   "source": [
    "ssd, models, scores = get_sdbw(vectorized_docs, initial_k = 56, max_k = 60, step = 2)"
   ]
  },
  {
   "cell_type": "code",
   "execution_count": 27,
   "metadata": {},
   "outputs": [
    {
     "data": {
      "text/plain": [
       "[83695.78125, 76692.59375, 73289.0859375, 70872.015625]"
      ]
     },
     "execution_count": 27,
     "metadata": {},
     "output_type": "execute_result"
    }
   ],
   "source": [
    "ssd"
   ]
  },
  {
   "cell_type": "code",
   "execution_count": 40,
   "metadata": {},
   "outputs": [
    {
     "data": {
      "text/plain": [
       "[0.8018628326362803, 0.7813395454958001, 0.7819669804741022]"
      ]
     },
     "execution_count": 40,
     "metadata": {},
     "output_type": "execute_result"
    }
   ],
   "source": [
    "scores"
   ]
  },
  {
   "cell_type": "code",
   "execution_count": 41,
   "metadata": {},
   "outputs": [],
   "source": [
    "best_model = {\n",
    "    'model': models[1],\n",
    "    'score': scores[1]    \n",
    "}"
   ]
  },
  {
   "attachments": {},
   "cell_type": "markdown",
   "metadata": {},
   "source": [
    "Foram testados: 10, 20, 30, 40, 50, 56, 60, 62, 64, 66, 68, 70, 80, 200, 300 clusters e o melhor resultado foi com 300 (score 0.7406). No entanto podem existir melhores resultados nos intervalos não testados, que precisariam de mais tempo para serem avaliados, visto que o teste d_sbw é muito custoso."
   ]
  },
  {
   "attachments": {},
   "cell_type": "markdown",
   "metadata": {},
   "source": [
    "#### Elbow Plot\n",
    "\n",
    "Um dos mais visuais é o método do cotovelo, que consiste em plotar o valor da função objetivo em função do número de clusters. A partir do gráfico, é possível identificar o ponto de \"cotovelo\", que é o número de clusters que apresenta a maior redução no valor da função objetivo. No entanto, esse método considera apenas a função objetivo, não considerando outros aspectos, como a própria densidade dos clusters. Outros métodos foram identificados através da leitura de papers que serão usados aqui."
   ]
  },
  {
   "cell_type": "code",
   "execution_count": 20,
   "metadata": {},
   "outputs": [],
   "source": [
    "def generate_elbow_plot(vectors: np.ndarray, initial_k: int = 2, max_k: int = 30, step: int = 1):\n",
    "    sum_of_squared_distances = []\n",
    "    K = range(initial_k, max_k, step)\n",
    "    for k in K:\n",
    "        print(f'Running KMeans with k={k}')\n",
    "        km = KMeans(n_clusters=k, random_state=SEED)\n",
    "        km = km.fit(vectors)        \n",
    "        sum_of_squared_distances.append(km.inertia_)\n",
    "\n",
    "    plt.figure(figsize=(15,15))\n",
    "    plt.plot(K, sum_of_squared_distances, 'bx-')\n",
    "\n",
    "    point1 = [initial_k, sum_of_squared_distances[0]]\n",
    "    point2 = [max_k-1, sum_of_squared_distances[-1]]\n",
    "    x_values = [point1[0], point2[0]]\n",
    "    y_values = [point1[1], point2[1]]\n",
    "    plt.plot(x_values, y_values)\n",
    "\n",
    "    plt.xlabel('k')\n",
    "    plt.ylabel('Sum_of_squared_distances')\n",
    "    plt.title('Elbow Method For Optimal k')\n",
    "    plt.xticks(K)\n",
    "    plt.grid(True)\n",
    "    plt.show()"
   ]
  },
  {
   "attachments": {},
   "cell_type": "markdown",
   "metadata": {},
   "source": [
    "A execução abaixo pode levar aproximadamente uma hora, visto que o KMeans será rodado diversas vezes e, para a quantidade de dados definida, o processamento leva até 3 minutos por vez."
   ]
  },
  {
   "cell_type": "code",
   "execution_count": null,
   "metadata": {},
   "outputs": [],
   "source": [
    "generate_elbow_plot(vectorized_docs, initial_k=15, max_k = 45)"
   ]
  },
  {
   "attachments": {},
   "cell_type": "markdown",
   "metadata": {},
   "source": [
    "#### Executando o melhor modelo"
   ]
  },
  {
   "cell_type": "code",
   "execution_count": 44,
   "metadata": {},
   "outputs": [],
   "source": [
    "dataset['cluster'] = best_model['model'].predict(vectorized_docs)"
   ]
  },
  {
   "attachments": {},
   "cell_type": "markdown",
   "metadata": {},
   "source": [
    "#### Testando com um valor mais alto para comparação"
   ]
  },
  {
   "cell_type": "code",
   "execution_count": 59,
   "metadata": {},
   "outputs": [
    {
     "name": "stdout",
     "output_type": "stream",
     "text": [
      "Running KMeans with k=300\n",
      "Finished KMeans with k=300\n",
      "Calculating SDBW score for k=300\n",
      "SDBW score for k=300: 0.7406011457504356\n",
      "\n",
      "\n"
     ]
    }
   ],
   "source": [
    "inertia, km, score = execute_kmeans(vectorized_docs, 300)"
   ]
  },
  {
   "attachments": {},
   "cell_type": "markdown",
   "metadata": {},
   "source": [
    "Quanto maior o número de clusters, maior o tempo de execução do algoritmo de avaliação."
   ]
  },
  {
   "cell_type": "code",
   "execution_count": 60,
   "metadata": {},
   "outputs": [],
   "source": [
    "dataset['cluster'] = km.predict(vectorized_docs)"
   ]
  },
  {
   "attachments": {},
   "cell_type": "markdown",
   "metadata": {},
   "source": [
    "#### Analisando a distribuição dos clusters"
   ]
  },
  {
   "cell_type": "code",
   "execution_count": 61,
   "metadata": {},
   "outputs": [
    {
     "data": {
      "text/html": [
       "<div>\n",
       "<style scoped>\n",
       "    .dataframe tbody tr th:only-of-type {\n",
       "        vertical-align: middle;\n",
       "    }\n",
       "\n",
       "    .dataframe tbody tr th {\n",
       "        vertical-align: top;\n",
       "    }\n",
       "\n",
       "    .dataframe thead th {\n",
       "        text-align: right;\n",
       "    }\n",
       "</style>\n",
       "<table border=\"1\" class=\"dataframe\">\n",
       "  <thead>\n",
       "    <tr style=\"text-align: right;\">\n",
       "      <th></th>\n",
       "      <th>count_tenant</th>\n",
       "      <th>total_ads</th>\n",
       "    </tr>\n",
       "    <tr>\n",
       "      <th>cluster</th>\n",
       "      <th></th>\n",
       "      <th></th>\n",
       "    </tr>\n",
       "  </thead>\n",
       "  <tbody>\n",
       "    <tr>\n",
       "      <th>263</th>\n",
       "      <td>15</td>\n",
       "      <td>6515</td>\n",
       "    </tr>\n",
       "    <tr>\n",
       "      <th>237</th>\n",
       "      <td>48</td>\n",
       "      <td>5355</td>\n",
       "    </tr>\n",
       "    <tr>\n",
       "      <th>135</th>\n",
       "      <td>22</td>\n",
       "      <td>5231</td>\n",
       "    </tr>\n",
       "    <tr>\n",
       "      <th>121</th>\n",
       "      <td>11</td>\n",
       "      <td>5052</td>\n",
       "    </tr>\n",
       "    <tr>\n",
       "      <th>146</th>\n",
       "      <td>41</td>\n",
       "      <td>5045</td>\n",
       "    </tr>\n",
       "    <tr>\n",
       "      <th>...</th>\n",
       "      <td>...</td>\n",
       "      <td>...</td>\n",
       "    </tr>\n",
       "    <tr>\n",
       "      <th>159</th>\n",
       "      <td>10</td>\n",
       "      <td>533</td>\n",
       "    </tr>\n",
       "    <tr>\n",
       "      <th>253</th>\n",
       "      <td>16</td>\n",
       "      <td>526</td>\n",
       "    </tr>\n",
       "    <tr>\n",
       "      <th>19</th>\n",
       "      <td>9</td>\n",
       "      <td>468</td>\n",
       "    </tr>\n",
       "    <tr>\n",
       "      <th>143</th>\n",
       "      <td>8</td>\n",
       "      <td>403</td>\n",
       "    </tr>\n",
       "    <tr>\n",
       "      <th>34</th>\n",
       "      <td>3</td>\n",
       "      <td>179</td>\n",
       "    </tr>\n",
       "  </tbody>\n",
       "</table>\n",
       "<p>300 rows × 2 columns</p>\n",
       "</div>"
      ],
      "text/plain": [
       "         count_tenant  total_ads\n",
       "cluster                         \n",
       "263                15       6515\n",
       "237                48       5355\n",
       "135                22       5231\n",
       "121                11       5052\n",
       "146                41       5045\n",
       "...               ...        ...\n",
       "159                10        533\n",
       "253                16        526\n",
       "19                  9        468\n",
       "143                 8        403\n",
       "34                  3        179\n",
       "\n",
       "[300 rows x 2 columns]"
      ]
     },
     "execution_count": 61,
     "metadata": {},
     "output_type": "execute_result"
    }
   ],
   "source": [
    "resume = pd.DataFrame()\n",
    "grouped = dataset.groupby('cluster')\n",
    "resume['count_tenant'] = grouped['tenant_id'].nunique()\n",
    "resume['total_ads'] = grouped['ad_id'].count()\n",
    "resume.sort_values(by='total_ads', ascending=False)"
   ]
  },
  {
   "attachments": {},
   "cell_type": "markdown",
   "metadata": {},
   "source": [
    "Abaixo a quantidade de clusters identificados dentro de cada tenant."
   ]
  },
  {
   "cell_type": "code",
   "execution_count": 62,
   "metadata": {},
   "outputs": [
    {
     "data": {
      "text/html": [
       "<div>\n",
       "<style scoped>\n",
       "    .dataframe tbody tr th:only-of-type {\n",
       "        vertical-align: middle;\n",
       "    }\n",
       "\n",
       "    .dataframe tbody tr th {\n",
       "        vertical-align: top;\n",
       "    }\n",
       "\n",
       "    .dataframe thead th {\n",
       "        text-align: right;\n",
       "    }\n",
       "</style>\n",
       "<table border=\"1\" class=\"dataframe\">\n",
       "  <thead>\n",
       "    <tr style=\"text-align: right;\">\n",
       "      <th></th>\n",
       "      <th>count_ads</th>\n",
       "      <th>count_clusters</th>\n",
       "    </tr>\n",
       "    <tr>\n",
       "      <th>tenant_id</th>\n",
       "      <th></th>\n",
       "      <th></th>\n",
       "    </tr>\n",
       "  </thead>\n",
       "  <tbody>\n",
       "    <tr>\n",
       "      <th>5c9386f9504d3100012e95e5</th>\n",
       "      <td>109151</td>\n",
       "      <td>270</td>\n",
       "    </tr>\n",
       "    <tr>\n",
       "      <th>5c4b20593e77dc00011399d9</th>\n",
       "      <td>71412</td>\n",
       "      <td>279</td>\n",
       "    </tr>\n",
       "    <tr>\n",
       "      <th>5ea6d0c40e82150001b22fc2</th>\n",
       "      <td>55755</td>\n",
       "      <td>265</td>\n",
       "    </tr>\n",
       "    <tr>\n",
       "      <th>5eb9d68c0e82150001b23013</th>\n",
       "      <td>53809</td>\n",
       "      <td>269</td>\n",
       "    </tr>\n",
       "    <tr>\n",
       "      <th>5c2671aa57f05500012a2eee</th>\n",
       "      <td>40289</td>\n",
       "      <td>252</td>\n",
       "    </tr>\n",
       "    <tr>\n",
       "      <th>...</th>\n",
       "      <td>...</td>\n",
       "      <td>...</td>\n",
       "    </tr>\n",
       "    <tr>\n",
       "      <th>62190f3ac86635f02e35430e</th>\n",
       "      <td>5</td>\n",
       "      <td>4</td>\n",
       "    </tr>\n",
       "    <tr>\n",
       "      <th>5bababaa708b8413441ffa4f</th>\n",
       "      <td>4</td>\n",
       "      <td>3</td>\n",
       "    </tr>\n",
       "    <tr>\n",
       "      <th>61eefb69a4764ca5826caf8f</th>\n",
       "      <td>3</td>\n",
       "      <td>2</td>\n",
       "    </tr>\n",
       "    <tr>\n",
       "      <th>6172ca19eb15e74f998fd395</th>\n",
       "      <td>3</td>\n",
       "      <td>2</td>\n",
       "    </tr>\n",
       "    <tr>\n",
       "      <th>62e01a01ef2eb759748941bf</th>\n",
       "      <td>2</td>\n",
       "      <td>1</td>\n",
       "    </tr>\n",
       "  </tbody>\n",
       "</table>\n",
       "<p>80 rows × 2 columns</p>\n",
       "</div>"
      ],
      "text/plain": [
       "                          count_ads  count_clusters\n",
       "tenant_id                                          \n",
       "5c9386f9504d3100012e95e5     109151             270\n",
       "5c4b20593e77dc00011399d9      71412             279\n",
       "5ea6d0c40e82150001b22fc2      55755             265\n",
       "5eb9d68c0e82150001b23013      53809             269\n",
       "5c2671aa57f05500012a2eee      40289             252\n",
       "...                             ...             ...\n",
       "62190f3ac86635f02e35430e          5               4\n",
       "5bababaa708b8413441ffa4f          4               3\n",
       "61eefb69a4764ca5826caf8f          3               2\n",
       "6172ca19eb15e74f998fd395          3               2\n",
       "62e01a01ef2eb759748941bf          2               1\n",
       "\n",
       "[80 rows x 2 columns]"
      ]
     },
     "execution_count": 62,
     "metadata": {},
     "output_type": "execute_result"
    }
   ],
   "source": [
    "grouped = dataset.groupby('tenant_id')\n",
    "tenant_resume = pd.DataFrame()\n",
    "tenant_resume['count_ads'] = grouped['ad_id'].count()\n",
    "tenant_resume['count_clusters'] = grouped['cluster'].nunique()\n",
    "tenant_resume.sort_values(by='count_ads', ascending=False)"
   ]
  },
  {
   "attachments": {},
   "cell_type": "markdown",
   "metadata": {},
   "source": [
    "#### Salvando modelo de clusterização"
   ]
  },
  {
   "cell_type": "code",
   "execution_count": 63,
   "metadata": {},
   "outputs": [],
   "source": [
    "pickle.dump(km, open('../data/ads_2022/word2vec_model/word2vec_kmeans_300_model.pkl', 'wb'))"
   ]
  },
  {
   "attachments": {},
   "cell_type": "markdown",
   "metadata": {},
   "source": [
    "#### Gerando avaliação textual dos clusters"
   ]
  },
  {
   "cell_type": "code",
   "execution_count": 71,
   "metadata": {},
   "outputs": [],
   "source": [
    "def get_top_n_words(documents: list[str], n_words_to_return: int = 20, max_ngram: int = 2):\n",
    "    vec = CountVectorizer(ngram_range=(1, max_ngram)).fit(documents)\n",
    "    bag_of_words = vec.transform(documents)\n",
    "    sum_words = bag_of_words.sum(axis=0) \n",
    "    words_freq = [(word, sum_words[0, idx]) for word, idx in vec.vocabulary_.items()]\n",
    "    words_freq = sorted(words_freq, key = lambda x: x[1], reverse=True)\n",
    "    return [word[0] for word in words_freq[:n_words_to_return]]"
   ]
  },
  {
   "cell_type": "code",
   "execution_count": 80,
   "metadata": {},
   "outputs": [
    {
     "data": {
      "text/html": [
       "<div>\n",
       "<style scoped>\n",
       "    .dataframe tbody tr th:only-of-type {\n",
       "        vertical-align: middle;\n",
       "    }\n",
       "\n",
       "    .dataframe tbody tr th {\n",
       "        vertical-align: top;\n",
       "    }\n",
       "\n",
       "    .dataframe thead th {\n",
       "        text-align: right;\n",
       "    }\n",
       "</style>\n",
       "<table border=\"1\" class=\"dataframe\">\n",
       "  <thead>\n",
       "    <tr style=\"text-align: right;\">\n",
       "      <th></th>\n",
       "      <th>count_tenant</th>\n",
       "      <th>total_ads</th>\n",
       "      <th>top_words</th>\n",
       "    </tr>\n",
       "    <tr>\n",
       "      <th>cluster</th>\n",
       "      <th></th>\n",
       "      <th></th>\n",
       "      <th></th>\n",
       "    </tr>\n",
       "  </thead>\n",
       "  <tbody>\n",
       "    <tr>\n",
       "      <th>0</th>\n",
       "      <td>25</td>\n",
       "      <td>1835</td>\n",
       "      <td>vinhos anos menores menores anos venda cerveja...</td>\n",
       "    </tr>\n",
       "    <tr>\n",
       "      <th>1</th>\n",
       "      <td>17</td>\n",
       "      <td>924</td>\n",
       "      <td>mondial fritadeira liquidificador super philco...</td>\n",
       "    </tr>\n",
       "    <tr>\n",
       "      <th>2</th>\n",
       "      <td>29</td>\n",
       "      <td>913</td>\n",
       "      <td>esperando corre imperdiveis zap esperando corr...</td>\n",
       "    </tr>\n",
       "    <tr>\n",
       "      <th>3</th>\n",
       "      <td>15</td>\n",
       "      <td>3071</td>\n",
       "      <td>consorcio carro parcelas credito juros moto la...</td>\n",
       "    </tr>\n",
       "    <tr>\n",
       "      <th>4</th>\n",
       "      <td>49</td>\n",
       "      <td>3113</td>\n",
       "      <td>presente dia presentear especial mae ama maes ...</td>\n",
       "    </tr>\n",
       "    <tr>\n",
       "      <th>...</th>\n",
       "      <td>...</td>\n",
       "      <td>...</td>\n",
       "      <td>...</td>\n",
       "    </tr>\n",
       "    <tr>\n",
       "      <th>295</th>\n",
       "      <td>7</td>\n",
       "      <td>3078</td>\n",
       "      <td>cupom app desconto baixe baixe app ganhe acima...</td>\n",
       "    </tr>\n",
       "    <tr>\n",
       "      <th>296</th>\n",
       "      <td>10</td>\n",
       "      <td>1731</td>\n",
       "      <td>consorcio carro consorcio consorcio moto sonho...</td>\n",
       "    </tr>\n",
       "    <tr>\n",
       "      <th>297</th>\n",
       "      <td>11</td>\n",
       "      <td>2496</td>\n",
       "      <td>fgts aniversario saque dinheiro saque aniversa...</td>\n",
       "    </tr>\n",
       "    <tr>\n",
       "      <th>298</th>\n",
       "      <td>16</td>\n",
       "      <td>1532</td>\n",
       "      <td>seguro lar protegido casa lar protegido reside...</td>\n",
       "    </tr>\n",
       "    <tr>\n",
       "      <th>299</th>\n",
       "      <td>34</td>\n",
       "      <td>2697</td>\n",
       "      <td>novidades calcados bolsa sandalia calcados nov...</td>\n",
       "    </tr>\n",
       "  </tbody>\n",
       "</table>\n",
       "<p>300 rows × 3 columns</p>\n",
       "</div>"
      ],
      "text/plain": [
       "         count_tenant  total_ads  \\\n",
       "cluster                            \n",
       "0                  25       1835   \n",
       "1                  17        924   \n",
       "2                  29        913   \n",
       "3                  15       3071   \n",
       "4                  49       3113   \n",
       "...               ...        ...   \n",
       "295                 7       3078   \n",
       "296                10       1731   \n",
       "297                11       2496   \n",
       "298                16       1532   \n",
       "299                34       2697   \n",
       "\n",
       "                                                 top_words  \n",
       "cluster                                                     \n",
       "0        vinhos anos menores menores anos venda cerveja...  \n",
       "1        mondial fritadeira liquidificador super philco...  \n",
       "2        esperando corre imperdiveis zap esperando corr...  \n",
       "3        consorcio carro parcelas credito juros moto la...  \n",
       "4        presente dia presentear especial mae ama maes ...  \n",
       "...                                                    ...  \n",
       "295      cupom app desconto baixe baixe app ganhe acima...  \n",
       "296      consorcio carro consorcio consorcio moto sonho...  \n",
       "297      fgts aniversario saque dinheiro saque aniversa...  \n",
       "298      seguro lar protegido casa lar protegido reside...  \n",
       "299      novidades calcados bolsa sandalia calcados nov...  \n",
       "\n",
       "[300 rows x 3 columns]"
      ]
     },
     "execution_count": 80,
     "metadata": {},
     "output_type": "execute_result"
    }
   ],
   "source": [
    "resume['top_words'] = [\n",
    "    ' '.join(\n",
    "        get_top_n_words(dataset.query(f'cluster == {cluster}')['cleaned_text'].values.tolist())\n",
    "    ) for cluster in resume.index\n",
    "]\n",
    "resume"
   ]
  },
  {
   "cell_type": "code",
   "execution_count": 81,
   "metadata": {},
   "outputs": [],
   "source": [
    "resume.to_csv('../data/ads_2022/clustering/word2vec_kmeans_300_cluster_info.csv', index=False)\n",
    "dataset.to_csv('../data/ads_2022/clustering/word2vec_kmeans_300_clustered_ads.csv', index=False)"
   ]
  },
  {
   "attachments": {},
   "cell_type": "markdown",
   "metadata": {},
   "source": [
    "#### Gerando visualização dos clusters"
   ]
  },
  {
   "cell_type": "code",
   "execution_count": 95,
   "metadata": {},
   "outputs": [
    {
     "name": "stderr",
     "output_type": "stream",
     "text": [
      "c:\\Users\\salat\\AppData\\Local\\Programs\\Python\\Python310\\lib\\site-packages\\sklearn\\manifold\\_t_sne.py:795: FutureWarning:\n",
      "\n",
      "The default initialization in TSNE will change from 'random' to 'pca' in 1.2.\n",
      "\n",
      "c:\\Users\\salat\\AppData\\Local\\Programs\\Python\\Python310\\lib\\site-packages\\sklearn\\manifold\\_t_sne.py:805: FutureWarning:\n",
      "\n",
      "The default learning rate in TSNE will change from 200.0 to 'auto' in 1.2.\n",
      "\n"
     ]
    }
   ],
   "source": [
    "x, y = reduced_km_300_dimensions = reduce_vectors_dimensions(km.cluster_centers_, 2)\n",
    "plot_html_with_plotly(x, y, resume['top_words'].values.tolist(), filename = 'kmeans_300_cluster_plot.html')"
   ]
  },
  {
   "attachments": {},
   "cell_type": "markdown",
   "metadata": {},
   "source": [
    "## Conclusão\n",
    "\n",
    "A clusterização de documentos utilizando `Word2Vec` foi bem sucedida. Os clusters gerados foram bem definidos e a clusterização foi bem sucedida.\n",
    "\n",
    "* Selecionado 300 clusters;\n",
    "* Métrica de avaliação S_Dbw: $0.7406$;\n",
    "* Vocabulário criado com aproximadamente 570 mil anúncios;\n",
    "* Dois vocabulários: com e sem bigramas;\n",
    "* Independente do tenant;\n",
    "* Os dados utilizados, assim como os modelos resultantes, estão disponíveis [aqui](https://drive.google.com/file/d/1fVXlGZYLd6efOTk_7EGt91ukZznq-i8O/view?usp=sharing).\n",
    "\n",
    "## Estudos futuros sobre a biblioteca Gensim\n",
    "\n",
    "* [Possui a possibilidade de similaridades utilizando mesmo o TF-IDF para documentos](https://radimrehurek.com/gensim/auto_examples/core/run_similarity_queries.html)\n",
    "* [É possível processar documentos como streaming](https://radimrehurek.com/gensim/auto_examples/core/run_corpora_and_vector_spaces.html#id4)\n",
    "* [Vetorizações podem ser convertidas de umas para outras](https://radimrehurek.com/gensim/auto_examples/core/run_topics_and_transformations.html)\n",
    "* [Doc2Vec](https://radimrehurek.com/gensim/auto_examples/tutorials/run_doc2vec_lee.html)\n",
    "* [LDA Model](https://radimrehurek.com/gensim/auto_examples/tutorials/run_ensemblelda.html)\n",
    "* [FastText](https://radimrehurek.com/gensim/auto_examples/tutorials/run_fasttext.html)\n",
    "* [LineSentense](https://radimrehurek.com/gensim/models/word2vec.html#gensim.models.word2vec.LineSentence): é possível ler um arquivo de texto e processar linha a linha, sem precisar carregar tudo na memória.\n",
    "O vocabulário pode ser reduzido após o treinamento."
   ]
  }
 ],
 "metadata": {
  "kernelspec": {
   "display_name": "Python 3",
   "language": "python",
   "name": "python3"
  },
  "language_info": {
   "codemirror_mode": {
    "name": "ipython",
    "version": 3
   },
   "file_extension": ".py",
   "mimetype": "text/x-python",
   "name": "python",
   "nbconvert_exporter": "python",
   "pygments_lexer": "ipython3",
   "version": "3.10.0"
  },
  "orig_nbformat": 4,
  "vscode": {
   "interpreter": {
    "hash": "6e607abaa517475297adc4c5ce0e20c958febf53b6bace5f653445ec5f32eea0"
   }
  }
 },
 "nbformat": 4,
 "nbformat_minor": 2
}
