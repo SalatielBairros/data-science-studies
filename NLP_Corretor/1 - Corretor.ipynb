{
 "cells": [
  {
   "cell_type": "markdown",
   "metadata": {},
   "source": [
    "# NLP - Corretor Ortográfico\n",
    "Material baseado no curso **Corretor Ortográfico em Python: Aplicando técnicas de NLP** da **Alura**."
   ]
  },
  {
   "cell_type": "code",
   "execution_count": 1,
   "metadata": {},
   "outputs": [
    {
     "name": "stderr",
     "output_type": "stream",
     "text": [
      "[nltk_data] Downloading package punkt to\n",
      "[nltk_data]     C:\\Users\\salatiel.bairros\\AppData\\Roaming\\nltk_data...\n",
      "[nltk_data]   Package punkt is already up-to-date!\n"
     ]
    },
    {
     "data": {
      "text/plain": [
       "True"
      ]
     },
     "execution_count": 1,
     "metadata": {},
     "output_type": "execute_result"
    }
   ],
   "source": [
    "import nltk\n",
    "import time\n",
    "\n",
    "# Pacote do NLTK responsável pela transformação do texto em tokens válidos, separando a pontuação.\n",
    "nltk.download('punkt')"
   ]
  },
  {
   "cell_type": "code",
   "execution_count": 2,
   "metadata": {},
   "outputs": [],
   "source": [
    "arquivo_corpus = 'dados/artigos.txt'\n",
    "arquivo_teste = \"dados/palavras.txt\"\n",
    "alfabeto = 'abcdefghijklmnopqrstuvwxyzáàãâéèêíìóòõôúùûç'\n",
    "corpus = []\n",
    "probabilidades = {}\n",
    "total_palavras = 0"
   ]
  },
  {
   "cell_type": "code",
   "execution_count": 3,
   "metadata": {},
   "outputs": [],
   "source": [
    "def separa_palavras(lista_tokens):\n",
    "    lista_palavras = []\n",
    "    for token in lista_tokens:\n",
    "        if token.isalpha():\n",
    "            lista_palavras.append(token.lower())\n",
    "    return lista_palavras"
   ]
  },
  {
   "cell_type": "code",
   "execution_count": 4,
   "metadata": {},
   "outputs": [],
   "source": [
    "def carregar_corpus():\n",
    "    global corpus\n",
    "    global total_palavras\n",
    "    global probabilidades\n",
    "    \n",
    "    with open(arquivo_corpus, 'r', encoding=\"utf8\") as f:\n",
    "        artigos = f.read()\n",
    "        \n",
    "    lista_palavras = separa_palavras(nltk.tokenize.word_tokenize(artigos))\n",
    "    corpus = list(set(lista_palavras))\n",
    "    total_palavras = len(lista_palavras)\n",
    "    frequencia = nltk.FreqDist(corpus)\n",
    "    for p in frequencia:\n",
    "        probabilidades[p] = frequencia[p] / total_palavras"
   ]
  },
  {
   "cell_type": "code",
   "execution_count": 5,
   "metadata": {},
   "outputs": [],
   "source": [
    "def gerar_fatias(palavra):\n",
    "    fatias = []\n",
    "    for i in range(len(palavra)+1):\n",
    "        fatias.append((palavra[:i], palavra[i:]))\n",
    "    return fatias"
   ]
  },
  {
   "cell_type": "code",
   "execution_count": 6,
   "metadata": {},
   "outputs": [],
   "source": [
    "def insere_letras(fatias):    \n",
    "    palavras_geradas = []\n",
    "    for E, D in fatias:\n",
    "        for letra in alfabeto:\n",
    "            palavras_geradas.append(E + letra + D)\n",
    "    return palavras_geradas"
   ]
  },
  {
   "cell_type": "code",
   "execution_count": 7,
   "metadata": {},
   "outputs": [],
   "source": [
    "def deletando_caracteres(fatias):\n",
    "    novas_palavras = []\n",
    "    for E, D in fatias:\n",
    "        novas_palavras.append(E + D[1:])\n",
    "    return novas_palavras"
   ]
  },
  {
   "cell_type": "code",
   "execution_count": 8,
   "metadata": {},
   "outputs": [],
   "source": [
    "def inverte_letra(fatias):\n",
    "    novas_palavras = []\n",
    "    for E, D in fatias:\n",
    "        if len(D) > 1:\n",
    "            novas_palavras.append(E + D[1] + D[0] + D[2:])\n",
    "    return novas_palavras"
   ]
  },
  {
   "cell_type": "code",
   "execution_count": 9,
   "metadata": {},
   "outputs": [],
   "source": [
    "def troca_letra(fatias):\n",
    "    novas_palavras = []\n",
    "    for E, D in fatias:\n",
    "        for letra in alfabeto:\n",
    "            novas_palavras.append(E + letra + D[1:])\n",
    "    return novas_palavras"
   ]
  },
  {
   "cell_type": "code",
   "execution_count": 10,
   "metadata": {},
   "outputs": [],
   "source": [
    "def gerador_palavras(palavra):\n",
    "    fatias = gerar_fatias(palavra)\n",
    "    palavras = insere_letras(fatias)\n",
    "    palavras += deletando_caracteres(fatias)\n",
    "    palavras += troca_letra(fatias)\n",
    "    palavras += inverte_letra(fatias)\n",
    "    return palavras"
   ]
  },
  {
   "cell_type": "code",
   "execution_count": 11,
   "metadata": {},
   "outputs": [],
   "source": [
    "def obter_palavras_validas(palavras_possiveis):\n",
    "    return [p for p in palavras_possiveis if p in corpus]"
   ]
  },
  {
   "cell_type": "code",
   "execution_count": 12,
   "metadata": {},
   "outputs": [],
   "source": [
    "def corretor_bruto(palavra):\n",
    "    return obter_palavras_validas(gerador_palavras(palavra))"
   ]
  },
  {
   "cell_type": "code",
   "execution_count": 13,
   "metadata": {},
   "outputs": [],
   "source": [
    "def probabilidade(palavra_gerada):\n",
    "    return probabilidades[palavra_gerada]"
   ]
  },
  {
   "cell_type": "code",
   "execution_count": 14,
   "metadata": {},
   "outputs": [],
   "source": [
    "def corretor(palavra):\n",
    "    palavras_geradas = corretor_bruto(palavra)\n",
    "    if(len(palavras_geradas) == 0):\n",
    "        return palavra\n",
    "    palavra_correta = max(palavras_geradas, key = probabilidade)\n",
    "    return palavra_correta"
   ]
  },
  {
   "cell_type": "code",
   "execution_count": 15,
   "metadata": {},
   "outputs": [],
   "source": [
    "def validacao_individual():\n",
    "    print('Inserindo:' + corretor('lgica'))\n",
    "    print('Invertendo: ' + corretor('lóigca'))\n",
    "    print('Trocando: ' + corretor('lpgica'))\n",
    "    print('Removendo: ' +  corretor('lógiica'))"
   ]
  },
  {
   "cell_type": "markdown",
   "metadata": {},
   "source": [
    "## Validando o corretor"
   ]
  },
  {
   "cell_type": "code",
   "execution_count": 16,
   "metadata": {},
   "outputs": [],
   "source": [
    "def cria_dados_teste():\n",
    "    lista_palavras_teste = []\n",
    "    with open(arquivo_teste, \"r\", encoding=\"utf8\") as f:\n",
    "        for linha in f:\n",
    "            conjunto = linha.split()\n",
    "            lista_palavras_teste.append((conjunto[0], conjunto[1]))\n",
    "    return lista_palavras_teste"
   ]
  },
  {
   "cell_type": "code",
   "execution_count": 17,
   "metadata": {},
   "outputs": [],
   "source": [
    "def calcular_taxa_maxima(lista_teste):\n",
    "    nao_existe = []\n",
    "    for pC, pE in lista_teste:\n",
    "        if (pC not in corpus):\n",
    "            nao_existe.append(pC)\n",
    "    erro_minimo = round((len(nao_existe) / len(corpus)) * 100, 2)\n",
    "    print('% de palavras não existentes no vocabulário: ', erro_minimo)\n",
    "    return nao_existe"
   ]
  },
  {
   "cell_type": "code",
   "execution_count": 18,
   "metadata": {},
   "outputs": [],
   "source": [
    "def incrementar_vocabulario(ausentes):\n",
    "    global total_palavras\n",
    "    for p in ausentes:\n",
    "        if(p not in corpus):\n",
    "            total_palavras += 1\n",
    "            probabilidades[p] = 1 / total_palavras\n",
    "            corpus.append(p)"
   ]
  },
  {
   "cell_type": "code",
   "execution_count": 19,
   "metadata": {},
   "outputs": [],
   "source": [
    "def avaliador (testes, funcCorretor):\n",
    "    numero_palavras = len(testes)\n",
    "    acertou = 0\n",
    "    erradas = []\n",
    "    start = time.time()\n",
    "    index = 0\n",
    "    pAtual = 0\n",
    "    nTestes = len(testes)\n",
    "    for correta, errada in testes:\n",
    "        index += 1\n",
    "        palavra_corrigida = funcCorretor(errada)\n",
    "        if palavra_corrigida == correta:\n",
    "            acertou += 1\n",
    "        else:\n",
    "            erradas.append((correta, errada, palavra_corrigida))\n",
    "        new_p = int(round(100 * (index / nTestes), 0))\n",
    "        if(new_p > pAtual):\n",
    "            pAtual = new_p\n",
    "            print(f'{pAtual:03}% ' + \"*\" * pAtual)      \n",
    "    end = time.time()            \n",
    "    taxa_acerto = round(acertou*100/numero_palavras, 2)\n",
    "    print(f\"{taxa_acerto}% de {numero_palavras} palavras, executado em {end - start}.\")\n",
    "    return erradas"
   ]
  },
  {
   "cell_type": "code",
   "execution_count": 20,
   "metadata": {},
   "outputs": [],
   "source": [
    "def gerador_turbinado(palavras_geradas):\n",
    "    novas_palavras = []\n",
    "    for palavra in palavras_geradas:\n",
    "        for p in gerador_palavras(palavra):\n",
    "            if(p in corpus):\n",
    "                novas_palavras.append(p)\n",
    "    return novas_palavras"
   ]
  },
  {
   "cell_type": "code",
   "execution_count": 24,
   "metadata": {},
   "outputs": [],
   "source": [
    "def corretor_turbinado(palavra):\n",
    "    palavras_geradas = corretor_bruto(palavra)\n",
    "    if(len(palavras_geradas) == 0):\n",
    "        palavras_geradas = gerador_turbinado(palavras_geradas)\n",
    "        if(len(palavras_geradas) == 0):\n",
    "            return palavra\n",
    "    return max(palavras_geradas, key = probabilidade)"
   ]
  },
  {
   "cell_type": "code",
   "execution_count": 25,
   "metadata": {},
   "outputs": [],
   "source": [
    "def executar():\n",
    "    print(\"\\n*** CORRETOR EM 3 CAMADAS ***\\n\")\n",
    "    print(\"\\n 1 - Carregando corpus\\n\")\n",
    "    carregar_corpus()\n",
    "    print(\"\\n 2 - Corpus carregado\\n\")\n",
    "    print(\"\\n 3 - Avaliação individual\\n\")\n",
    "    validacao_individual()\n",
    "    print(\"\\n 4 - Criando dados de teste\\n\")\n",
    "    palavras_teste = cria_dados_teste()\n",
    "    print(\"\\n 5 - Calculando taxa mínima\\n\")\n",
    "    ausentes = calcular_taxa_maxima(palavras_teste)\n",
    "    print(\"\\n 6 - Atualizando vocabulario\\n\")\n",
    "    incrementar_vocabulario(ausentes)\n",
    "    print(\"\\n 7 - Iniciando avaliação\\n\")\n",
    "    erradas = avaliador(palavras_teste, corretor_turbinado)\n",
    "    print(\"\\n 8 - Avaliação finalizada. Palavras erradas: \\n\")\n",
    "    print(erradas)"
   ]
  },
  {
   "cell_type": "code",
   "execution_count": 26,
   "metadata": {},
   "outputs": [
    {
     "name": "stdout",
     "output_type": "stream",
     "text": [
      "\n",
      "*** CORRETOR EM 3 CAMADAS ***\n",
      "\n",
      "\n",
      " 1 - Carregando corpus\n",
      "\n",
      "\n",
      " 2 - Corpus carregado\n",
      "\n",
      "\n",
      " 3 - Avaliação individual\n",
      "\n",
      "Inserindo:lógica\n",
      "Invertendo: lógica\n",
      "Trocando: lógica\n",
      "Removendo: lógica\n",
      "\n",
      " 4 - Criando dados de teste\n",
      "\n",
      "\n",
      " 5 - Calculando taxa mínima\n",
      "\n",
      "% de palavras não existentes no vocabulário:  0.07\n",
      "\n",
      " 6 - Atualizando vocabulario\n",
      "\n",
      "\n",
      " 7 - Iniciando avaliação\n",
      "\n",
      "001% *\n",
      "002% **\n",
      "003% ***\n",
      "004% ****\n",
      "005% *****\n",
      "006% ******\n",
      "007% *******\n",
      "008% ********\n",
      "009% *********\n",
      "010% **********\n",
      "011% ***********\n",
      "012% ************\n",
      "013% *************\n",
      "014% **************\n",
      "015% ***************\n",
      "016% ****************\n",
      "017% *****************\n",
      "018% ******************\n",
      "019% *******************\n",
      "020% ********************\n",
      "021% *********************\n",
      "022% **********************\n",
      "023% ***********************\n",
      "024% ************************\n",
      "025% *************************\n",
      "026% **************************\n",
      "027% ***************************\n",
      "028% ****************************\n",
      "029% *****************************\n",
      "030% ******************************\n",
      "031% *******************************\n",
      "032% ********************************\n",
      "033% *********************************\n",
      "034% **********************************\n",
      "035% ***********************************\n",
      "036% ************************************\n",
      "037% *************************************\n",
      "038% **************************************\n",
      "039% ***************************************\n",
      "040% ****************************************\n",
      "041% *****************************************\n",
      "042% ******************************************\n",
      "043% *******************************************\n",
      "044% ********************************************\n",
      "045% *********************************************\n",
      "046% **********************************************\n",
      "047% ***********************************************\n",
      "048% ************************************************\n",
      "049% *************************************************\n",
      "050% **************************************************\n",
      "051% ***************************************************\n",
      "052% ****************************************************\n",
      "053% *****************************************************\n",
      "054% ******************************************************\n",
      "055% *******************************************************\n",
      "056% ********************************************************\n",
      "057% *********************************************************\n",
      "058% **********************************************************\n",
      "059% ***********************************************************\n",
      "060% ************************************************************\n",
      "061% *************************************************************\n",
      "062% **************************************************************\n",
      "063% ***************************************************************\n",
      "064% ****************************************************************\n",
      "065% *****************************************************************\n",
      "066% ******************************************************************\n",
      "067% *******************************************************************\n",
      "068% ********************************************************************\n",
      "069% *********************************************************************\n",
      "070% **********************************************************************\n",
      "071% ***********************************************************************\n",
      "072% ************************************************************************\n",
      "073% *************************************************************************\n",
      "074% **************************************************************************\n",
      "075% ***************************************************************************\n",
      "076% ****************************************************************************\n",
      "077% *****************************************************************************\n",
      "078% ******************************************************************************\n",
      "079% *******************************************************************************\n",
      "080% ********************************************************************************\n",
      "081% *********************************************************************************\n",
      "082% **********************************************************************************\n",
      "083% ***********************************************************************************\n",
      "084% ************************************************************************************\n",
      "085% *************************************************************************************\n",
      "086% **************************************************************************************\n",
      "087% ***************************************************************************************\n",
      "088% ****************************************************************************************\n",
      "089% *****************************************************************************************\n",
      "090% ******************************************************************************************\n",
      "091% *******************************************************************************************\n",
      "092% ********************************************************************************************\n",
      "093% *********************************************************************************************\n",
      "094% **********************************************************************************************\n",
      "095% ***********************************************************************************************\n",
      "096% ************************************************************************************************\n",
      "097% *************************************************************************************************\n",
      "098% **************************************************************************************************\n",
      "099% ***************************************************************************************************\n",
      "100% ****************************************************************************************************\n",
      "69.35% de 186 palavras, executado em 83.42417597770691.\n",
      "\n",
      " 8 - Avaliação finalizada. Palavras erradas: \n",
      "\n",
      "[('já', 'jrá', 'rá'), ('dos', 'dosa', 'dosar'), ('ele', 'eme', 'me'), ('temos', 'temfs', 'temas'), ('nos', 'noâ', 'no'), ('ter', 'teb', 'te'), ('até', 'atĩ', 'at'), ('bem', 'âem', 'em'), ('foi', 'foo', 'foco'), ('será', 'serr', 'ser'), ('entre', 'entke', 'ente'), ('vai', 'van', 'vlan'), ('seus', 'çeus', 'meus'), ('eu', 'eû', 'e'), ('tempo', 'temeo', 'temo'), ('site', 'siàe', 'side'), ('pelo', 'peln', 'pen'), ('já', 'jé', 'é'), ('dos', 'odos', 'modos'), ('das', 'dms', 'cms'), ('cada', 'cava', 'canva'), ('mesmo', 'medmo', 'medo'), ('forma', 'forûa', 'fora'), ('dados', 'daáos', 'daos'), ('bem', 'búm', 'bam'), ('entre', 'entró', 'entra'), ('vai', 'uai', 'ai'), ('todos', 'todás', 'todas'), ('site', 'isite', 'visite'), ('sem', 'secm', 'scm'), ('alura', 'aluéa', 'aluna'), ('dia', 'dil', 'ail'), ('ela', 'qelay', 'delay'), ('só', 'sód', 'sd'), ('utilizar', 'dtilizacr', 'dtilizacr'), ('projeto', 'bprojõto', 'bprojõto'), ('site', 'ysiteo', 'ysiteo'), ('sem', 'sõêm', 'sõêm'), ('pelo', 'peàli', 'peàli'), ('alura', 'asuraó', 'asuraó'), ('dia', 'deiìa', 'deixa'), ('tudo', 'tuĩdoì', 'tuĩdoì'), ('ela', 'eúaa', 'eúaa'), ('só', 'ró', 'r'), ('utilizar', 'utilizẽaçr', 'utilizẽaçr'), ('projeto', 'prêjetó', 'prêjetó'), ('site', 'sqiqte', 'sqiqte'), ('sem', 'sũexm', 'sũexm'), ('pelo', 'pçlxo', 'pçlxo'), ('alura', 'uluraa', 'uluraa'), ('dia', 'dĩaz', 'dĩaz'), ('tudo', 'kzudo', 'kzudo'), ('ansiosa', 'ancciosa', 'ancciosa'), ('asterisco', 'asterístico', 'asterístico'), ('tomara', 'tomare', 'tomarem'), ('seja', 'seje', 'see'), ('esteja', 'esteje', 'estepe')]\n"
     ]
    }
   ],
   "source": [
    "executar()"
   ]
  },
  {
   "cell_type": "code",
   "execution_count": null,
   "metadata": {},
   "outputs": [],
   "source": []
  }
 ],
 "metadata": {
  "kernelspec": {
   "display_name": "Python 3",
   "language": "python",
   "name": "python3"
  },
  "language_info": {
   "codemirror_mode": {
    "name": "ipython",
    "version": 3
   },
   "file_extension": ".py",
   "mimetype": "text/x-python",
   "name": "python",
   "nbconvert_exporter": "python",
   "pygments_lexer": "ipython3",
   "version": "3.8.3"
  },
  "toc": {
   "base_numbering": 1,
   "nav_menu": {},
   "number_sections": true,
   "sideBar": true,
   "skip_h1_title": false,
   "title_cell": "Table of Contents",
   "title_sidebar": "Contents",
   "toc_cell": false,
   "toc_position": {},
   "toc_section_display": true,
   "toc_window_display": false
  },
  "varInspector": {
   "cols": {
    "lenName": 16,
    "lenType": 16,
    "lenVar": 40
   },
   "kernels_config": {
    "python": {
     "delete_cmd_postfix": "",
     "delete_cmd_prefix": "del ",
     "library": "var_list.py",
     "varRefreshCmd": "print(var_dic_list())"
    },
    "r": {
     "delete_cmd_postfix": ") ",
     "delete_cmd_prefix": "rm(",
     "library": "var_list.r",
     "varRefreshCmd": "cat(var_dic_list()) "
    }
   },
   "types_to_exclude": [
    "module",
    "function",
    "builtin_function_or_method",
    "instance",
    "_Feature"
   ],
   "window_display": false
  }
 },
 "nbformat": 4,
 "nbformat_minor": 4
}
